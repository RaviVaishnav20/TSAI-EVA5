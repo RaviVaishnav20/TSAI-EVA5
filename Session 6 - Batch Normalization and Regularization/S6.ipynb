{
  "nbformat": 4,
  "nbformat_minor": 0,
  "metadata": {
    "colab": {
      "name": "S6.ipynb",
      "provenance": [],
      "collapsed_sections": []
    },
    "kernelspec": {
      "name": "python3",
      "display_name": "Python 3"
    },
    "accelerator": "GPU"
  },
  "cells": [
    {
      "cell_type": "code",
      "metadata": {
        "id": "k3bZce-ArNY0",
        "colab_type": "code",
        "colab": {
          "base_uri": "https://localhost:8080/",
          "height": 54
        },
        "outputId": "93f8443e-4ec1-46ff-8b4c-ab6111773d8b"
      },
      "source": [
        "from google.colab import drive\n",
        "\n",
        "drive.mount('/content/drive')\n",
        "root_path = 'drive/My Drive/Lab/'"
      ],
      "execution_count": 1,
      "outputs": [
        {
          "output_type": "stream",
          "text": [
            "Drive already mounted at /content/drive; to attempt to forcibly remount, call drive.mount(\"/content/drive\", force_remount=True).\n"
          ],
          "name": "stdout"
        }
      ]
    },
    {
      "cell_type": "code",
      "metadata": {
        "id": "GFNBB1Yerntu",
        "colab_type": "code",
        "colab": {
          "base_uri": "https://localhost:8080/",
          "height": 1000
        },
        "outputId": "39e89d88-b750-467a-a79a-cb36353d78f4"
      },
      "source": [
        "from utils import *\n",
        "from regularization import Regularization as reg\n",
        "from dataloaders import DataLoaders\n",
        "from model_with_bn import Net as bn_model\n",
        "from model_with_gbn import Net as gbn_model\n",
        "from train import TrainModel\n",
        "from test import TestModel\n",
        "from graph_plot import getPlottedGraph\n",
        "from misclassified_images import MissclassifiedImages as MI\n",
        "\n",
        "# Train and Test model plot\n",
        "l1_train_losses = []\n",
        "l1_train_accuracy = []\n",
        "l2_train_losses = []\n",
        "l2_train_accuracy = []\n",
        "l1_l2_train_losses = []\n",
        "l1_l2_train_accuracy = []\n",
        "gbn_train_losses = []\n",
        "gbn_train_accuracy = []\n",
        "gbn_l2_train_losses = []\n",
        "gbn_l2_train_accuracy = []\n",
        "gbn_l1_l2_train_losses = []\n",
        "gbn_l1_l2_train_accuracy = []\n",
        "\n",
        "l1_test_losses = []\n",
        "l1_test_accuracy = []\n",
        "l2_test_losses = []\n",
        "l2_test_accuracy = []\n",
        "l1_l2_test_losses = []\n",
        "l1_l2_test_accuracy = []\n",
        "gbn_test_losses = []\n",
        "gbn_test_accuracy = []\n",
        "gbn_l2_test_losses = []\n",
        "gbn_l2_test_accuracy = []\n",
        "gbn_l1_l2_test_losses = []\n",
        "gbn_l1_l2_test_accuracy = []\n",
        "\n",
        "IMAGE_PATH = \"/content/drive/My Drive/Lab/images/\"\n",
        "MODEL_PATH = \"/content/drive/My Drive/Lab/models/\"\n",
        "def main():\n",
        "\n",
        "    # Hyper parameters\n",
        "    EPOCHS = 25\n",
        "\n",
        "\n",
        "    # For reproducibility\n",
        "    SEED = 1\n",
        "    # Check for CUDA?\n",
        "    cuda = torch.cuda.is_available()\n",
        "    print(\"Cuda is available ?\", cuda)\n",
        "    torch.manual_seed(SEED)\n",
        "    if cuda:\n",
        "        torch.cuda.manual_seed(SEED)\n",
        "\n",
        "    train_dataset, test_dataset, train_loader, test_loader = DataLoaders.dataload()\n",
        "\n",
        "    device = torch.device(\"cuda\" if cuda else \"cpu\")\n",
        "\n",
        "    # Summary\n",
        "    # summary(model, input_size=(1, 28, 28))\n",
        "\n",
        "    # Optimizer\n",
        "    model1 = bn_model().to(device)\n",
        "    optimizer1 = optim.SGD(model1.parameters(), lr=0.01, momentum=0.9)\n",
        "    scheduler1 = StepLR(optimizer1, step_size=7, gamma=0.1)\n",
        "\n",
        "    model2 = gbn_model().to(device)\n",
        "    optimizer2 = optim.SGD(model2.parameters(), lr=0.01, momentum=0.9)\n",
        "    scheduler2 = StepLR(optimizer2, step_size=7, gamma=0.1)\n",
        "\n",
        "    for epoch in range(EPOCHS):\n",
        "        # With L1\n",
        "        l1_train_loss, l1_train_acc = TrainModel.train(model1, device, train_loader, optimizer1, epoch,L1_regularization=reg,m_type=\"L1\")\n",
        "        l1_train_losses.append(l1_train_loss)\n",
        "        l1_train_accuracy.append(l1_train_acc)\n",
        "        #scheduler1.step_size = 23\n",
        "        scheduler1.step()\n",
        "        l1_test_loss, l1_test_acc = TestModel.test(model1, device, test_loader)\n",
        "        l1_test_losses.append(l1_test_loss)\n",
        "        l1_test_accuracy.append(l1_test_acc)\n",
        "\n",
        "        # With L2\n",
        "        optimizer1.param_groups[0]['weight_decay'] = 0.0001\n",
        "        l2_train_loss, l2_train_acc = TrainModel.train(model1, device, train_loader, optimizer1, epoch,m_type=\"L2\")\n",
        "        l2_train_losses.append(l2_train_loss)\n",
        "        l2_train_accuracy.append(l2_train_acc)\n",
        "        #scheduler1.step_size = 3\n",
        "        scheduler1.step()\n",
        "        l2_test_loss, l2_test_acc = TestModel.test(model1, device, test_loader)\n",
        "        l2_test_losses.append(l2_test_loss)\n",
        "        l2_test_accuracy.append(l2_test_acc)\n",
        "\n",
        "        # With L1 and L2\n",
        "        optimizer1.param_groups[0]['weight_decay'] = 0.0001\n",
        "        l1_l2_train_loss, l1_l2_train_acc = TrainModel.train(model1, device, train_loader, optimizer1, epoch, L1_regularization=reg,m_type=\"L1&L2\")\n",
        "        l1_l2_train_losses.append(l1_l2_train_loss)\n",
        "        l1_l2_train_accuracy.append(l1_l2_train_acc)\n",
        "       # scheduler1.step_size = 19\n",
        "        scheduler1.step()\n",
        "        l1_l2_test_loss, l1_l2_test_acc = TestModel.test(model1, device, test_loader)\n",
        "        l1_l2_test_losses.append(l1_l2_test_loss)\n",
        "        l1_l2_test_accuracy.append(l1_l2_test_acc)\n",
        "\n",
        "        # With GBN\n",
        "        gbn_train_loss, gbn_train_acc = TrainModel.train(model2, device, train_loader, optimizer2, epoch, m_type=\"GBN\")\n",
        "        gbn_train_losses.append(gbn_train_loss)\n",
        "        gbn_train_accuracy.append(gbn_train_acc)\n",
        "       # scheduler2.step_size = 11\n",
        "        scheduler2.step()\n",
        "        gbn_test_loss, gbn_test_acc = TestModel.test(model2, device, test_loader)\n",
        "        gbn_test_losses.append(gbn_test_loss)\n",
        "        gbn_test_accuracy.append(gbn_test_acc)\n",
        "\n",
        "        # GBN With L2\n",
        "        optimizer2.param_groups[0]['weight_decay'] = 0.0001\n",
        "        gbn_l2_train_loss, gbn_l2_train_acc = TrainModel.train(model2, device, train_loader, optimizer2, epoch,  m_type=\"GBN&L2\")\n",
        "        gbn_l2_train_losses.append(gbn_l2_train_loss)\n",
        "        gbn_l2_train_accuracy.append(gbn_l2_train_acc)\n",
        "       # scheduler2.step_size = 6\n",
        "        scheduler2.step()\n",
        "        gbn_l2_test_loss, gbn_l2_test_acc = TestModel.test(model2, device, test_loader)\n",
        "        gbn_l2_test_losses.append(gbn_l2_test_loss)\n",
        "        gbn_l2_test_accuracy.append(gbn_l2_test_acc)\n",
        "\n",
        "        # GBN With L1 and L2\n",
        "        optimizer2.param_groups[0]['weight_decay'] = 0.0001\n",
        "        gbn_l1_l2_train_loss, gbn_l1_l2_train_acc = TrainModel.train(model2, device, train_loader, optimizer2, epoch, L1_regularization=reg, m_type=\"GBN&L1&L2\")\n",
        "        gbn_l1_l2_train_losses.append(gbn_l1_l2_train_loss)\n",
        "        gbn_l1_l2_train_accuracy.append(gbn_l1_l2_train_acc)\n",
        "       # scheduler2.step_size = 21\n",
        "        scheduler2.step()\n",
        "        gbn_l1_l2_test_loss, gbn_l1_l2_test_acc = TestModel.test(model2, device, test_loader)\n",
        "        gbn_l1_l2_test_losses.append(gbn_l1_l2_test_loss)\n",
        "        gbn_l1_l2_test_accuracy.append(gbn_l1_l2_test_acc)\n",
        "\n",
        "    #Save Models\n",
        "    #PATH = \"/content/drive/My Drive/Lab/Loss_and_accuracy_plot.png\"\n",
        "    torch.save(model1, MODEL_PATH+\"bn_model.pth\")\n",
        "    torch.save(model2, MODEL_PATH+\"gbn_model.pth\")\n",
        "\n",
        "    #Plot and save graph of losses and accuracy\n",
        "    getPlottedGraph(EPOCHS, l1_train_losses, l1_train_accuracy, l1_test_losses, l1_test_accuracy,\n",
        "                    l2_train_losses, l2_train_accuracy,l2_test_losses, l2_test_accuracy,\n",
        "                    l1_l2_train_losses, l1_l2_train_accuracy,l1_l2_test_losses, l1_l2_test_accuracy,\n",
        "                    gbn_train_losses, gbn_train_accuracy, gbn_test_losses, gbn_test_accuracy,\n",
        "                    gbn_l2_train_losses, gbn_l2_train_accuracy, gbn_l2_test_losses, gbn_l2_test_accuracy,\n",
        "                    gbn_l1_l2_train_losses, gbn_l1_l2_train_accuracy, gbn_l1_l2_test_losses, gbn_l1_l2_test_accuracy,name=\"plot\", PATH=IMAGE_PATH)\n",
        "\n",
        "    #Save misclassified images\n",
        "    MI.show_save_misclassified_images(model1, test_loader, name=\"fig1\",PATH=IMAGE_PATH, max_misclassified_imgs=25)\n",
        "    MI.show_save_misclassified_images(model2, test_loader, name=\"fig2\",PATH=IMAGE_PATH, max_misclassified_imgs=25)\n",
        "if __name__ == \"__main__\":\n",
        "    main()\n"
      ],
      "execution_count": 2,
      "outputs": [
        {
          "output_type": "stream",
          "text": [
            "Cuda is available ? True\n"
          ],
          "name": "stdout"
        },
        {
          "output_type": "stream",
          "text": [
            "/content/ghost_batchnormalization.py:6: UserWarning: To copy construct from a tensor, it is recommended to use sourceTensor.clone().detach() or sourceTensor.clone().detach().requires_grad_(True), rather than torch.tensor(sourceTensor).\n",
            "  torch.tensor(self.weight.data.fill_(1.0)).cuda()\n",
            "/content/ghost_batchnormalization.py:7: UserWarning: To copy construct from a tensor, it is recommended to use sourceTensor.clone().detach() or sourceTensor.clone().detach().requires_grad_(True), rather than torch.tensor(sourceTensor).\n",
            "  torch.tensor(self.bias.data.fill_(0.0)).cuda()\n",
            "L1: EPOCH= 0 Loss= 0.4605 Batch_id= 468 Accuracy= 87.30: 100%|██████████| 469/469 [00:16<00:00, 29.18it/s]\n",
            "  0%|          | 0/469 [00:00<?, ?it/s]"
          ],
          "name": "stderr"
        },
        {
          "output_type": "stream",
          "text": [
            "\n",
            "Test set: Average Loss= 0.0938 Batch_id= 78 Accuracy= 9761/10000 (97.61%)\n",
            "\n"
          ],
          "name": "stdout"
        },
        {
          "output_type": "stream",
          "text": [
            "L2: EPOCH= 0 Loss= 0.1651 Batch_id= 468 Accuracy= 97.34: 100%|██████████| 469/469 [00:14<00:00, 33.30it/s]\n",
            "  0%|          | 0/469 [00:00<?, ?it/s]"
          ],
          "name": "stderr"
        },
        {
          "output_type": "stream",
          "text": [
            "\n",
            "Test set: Average Loss= 0.0460 Batch_id= 78 Accuracy= 9863/10000 (98.63%)\n",
            "\n"
          ],
          "name": "stdout"
        },
        {
          "output_type": "stream",
          "text": [
            "L1&L2: EPOCH= 0 Loss= 0.4598 Batch_id= 468 Accuracy= 97.41: 100%|██████████| 469/469 [00:15<00:00, 29.78it/s]\n",
            "  0%|          | 0/469 [00:00<?, ?it/s]"
          ],
          "name": "stderr"
        },
        {
          "output_type": "stream",
          "text": [
            "\n",
            "Test set: Average Loss= 0.0822 Batch_id= 78 Accuracy= 9786/10000 (97.86%)\n",
            "\n"
          ],
          "name": "stdout"
        },
        {
          "output_type": "stream",
          "text": [
            "GBN: EPOCH= 0 Loss= 0.2139 Batch_id= 468 Accuracy= 86.58: 100%|██████████| 469/469 [00:14<00:00, 32.61it/s]\n",
            "  0%|          | 0/469 [00:00<?, ?it/s]"
          ],
          "name": "stderr"
        },
        {
          "output_type": "stream",
          "text": [
            "\n",
            "Test set: Average Loss= 0.0998 Batch_id= 78 Accuracy= 9800/10000 (98.00%)\n",
            "\n"
          ],
          "name": "stdout"
        },
        {
          "output_type": "stream",
          "text": [
            "GBN&L2: EPOCH= 0 Loss= 0.0967 Batch_id= 468 Accuracy= 96.75: 100%|██████████| 469/469 [00:14<00:00, 31.42it/s]\n",
            "  0%|          | 0/469 [00:00<?, ?it/s]"
          ],
          "name": "stderr"
        },
        {
          "output_type": "stream",
          "text": [
            "\n",
            "Test set: Average Loss= 0.0614 Batch_id= 78 Accuracy= 9856/10000 (98.56%)\n",
            "\n"
          ],
          "name": "stdout"
        },
        {
          "output_type": "stream",
          "text": [
            "GBN&L1&L2: EPOCH= 0 Loss= 0.6865 Batch_id= 468 Accuracy= 97.14: 100%|██████████| 469/469 [00:16<00:00, 28.89it/s]\n",
            "  0%|          | 0/469 [00:00<?, ?it/s]"
          ],
          "name": "stderr"
        },
        {
          "output_type": "stream",
          "text": [
            "\n",
            "Test set: Average Loss= 0.0758 Batch_id= 78 Accuracy= 9800/10000 (98.00%)\n",
            "\n"
          ],
          "name": "stdout"
        },
        {
          "output_type": "stream",
          "text": [
            "L1: EPOCH= 1 Loss= 0.3463 Batch_id= 468 Accuracy= 97.26: 100%|██████████| 469/469 [00:15<00:00, 29.34it/s]\n",
            "  0%|          | 0/469 [00:00<?, ?it/s]"
          ],
          "name": "stderr"
        },
        {
          "output_type": "stream",
          "text": [
            "\n",
            "Test set: Average Loss= 0.0707 Batch_id= 78 Accuracy= 9810/10000 (98.10%)\n",
            "\n"
          ],
          "name": "stdout"
        },
        {
          "output_type": "stream",
          "text": [
            "L2: EPOCH= 1 Loss= 0.0732 Batch_id= 468 Accuracy= 97.99: 100%|██████████| 469/469 [00:13<00:00, 34.01it/s]\n",
            "  0%|          | 0/469 [00:00<?, ?it/s]"
          ],
          "name": "stderr"
        },
        {
          "output_type": "stream",
          "text": [
            "\n",
            "Test set: Average Loss= 0.0357 Batch_id= 78 Accuracy= 9888/10000 (98.88%)\n",
            "\n"
          ],
          "name": "stdout"
        },
        {
          "output_type": "stream",
          "text": [
            "L1&L2: EPOCH= 1 Loss= 0.3643 Batch_id= 468 Accuracy= 97.84: 100%|██████████| 469/469 [00:16<00:00, 29.28it/s]\n",
            "  0%|          | 0/469 [00:00<?, ?it/s]"
          ],
          "name": "stderr"
        },
        {
          "output_type": "stream",
          "text": [
            "\n",
            "Test set: Average Loss= 0.0672 Batch_id= 78 Accuracy= 9805/10000 (98.05%)\n",
            "\n"
          ],
          "name": "stdout"
        },
        {
          "output_type": "stream",
          "text": [
            "GBN: EPOCH= 1 Loss= 0.0875 Batch_id= 468 Accuracy= 97.66: 100%|██████████| 469/469 [00:14<00:00, 32.64it/s]\n",
            "  0%|          | 0/469 [00:00<?, ?it/s]"
          ],
          "name": "stderr"
        },
        {
          "output_type": "stream",
          "text": [
            "\n",
            "Test set: Average Loss= 0.0430 Batch_id= 78 Accuracy= 9881/10000 (98.81%)\n",
            "\n"
          ],
          "name": "stdout"
        },
        {
          "output_type": "stream",
          "text": [
            "GBN&L2: EPOCH= 1 Loss= 0.0666 Batch_id= 468 Accuracy= 98.18: 100%|██████████| 469/469 [00:14<00:00, 31.35it/s]\n",
            "  0%|          | 0/469 [00:00<?, ?it/s]"
          ],
          "name": "stderr"
        },
        {
          "output_type": "stream",
          "text": [
            "\n",
            "Test set: Average Loss= 0.0361 Batch_id= 78 Accuracy= 9892/10000 (98.92%)\n",
            "\n"
          ],
          "name": "stdout"
        },
        {
          "output_type": "stream",
          "text": [
            "GBN&L1&L2: EPOCH= 1 Loss= 0.4706 Batch_id= 468 Accuracy= 97.80: 100%|██████████| 469/469 [00:15<00:00, 29.46it/s]\n",
            "  0%|          | 0/469 [00:00<?, ?it/s]"
          ],
          "name": "stderr"
        },
        {
          "output_type": "stream",
          "text": [
            "\n",
            "Test set: Average Loss= 0.0627 Batch_id= 78 Accuracy= 9846/10000 (98.46%)\n",
            "\n"
          ],
          "name": "stdout"
        },
        {
          "output_type": "stream",
          "text": [
            "L1: EPOCH= 2 Loss= 0.3296 Batch_id= 468 Accuracy= 97.55: 100%|██████████| 469/469 [00:16<00:00, 29.13it/s]\n",
            "  0%|          | 0/469 [00:00<?, ?it/s]"
          ],
          "name": "stderr"
        },
        {
          "output_type": "stream",
          "text": [
            "\n",
            "Test set: Average Loss= 0.0963 Batch_id= 78 Accuracy= 9711/10000 (97.11%)\n",
            "\n"
          ],
          "name": "stdout"
        },
        {
          "output_type": "stream",
          "text": [
            "L2: EPOCH= 2 Loss= 0.0384 Batch_id= 468 Accuracy= 98.53: 100%|██████████| 469/469 [00:14<00:00, 33.21it/s]\n",
            "  0%|          | 0/469 [00:00<?, ?it/s]"
          ],
          "name": "stderr"
        },
        {
          "output_type": "stream",
          "text": [
            "\n",
            "Test set: Average Loss= 0.0231 Batch_id= 78 Accuracy= 9927/10000 (99.27%)\n",
            "\n"
          ],
          "name": "stdout"
        },
        {
          "output_type": "stream",
          "text": [
            "L1&L2: EPOCH= 2 Loss= 0.2539 Batch_id= 468 Accuracy= 98.77: 100%|██████████| 469/469 [00:15<00:00, 29.44it/s]\n",
            "  0%|          | 0/469 [00:00<?, ?it/s]"
          ],
          "name": "stderr"
        },
        {
          "output_type": "stream",
          "text": [
            "\n",
            "Test set: Average Loss= 0.0231 Batch_id= 78 Accuracy= 9925/10000 (99.25%)\n",
            "\n"
          ],
          "name": "stdout"
        },
        {
          "output_type": "stream",
          "text": [
            "GBN: EPOCH= 2 Loss= 0.0421 Batch_id= 468 Accuracy= 97.97: 100%|██████████| 469/469 [00:15<00:00, 31.06it/s]\n",
            "  0%|          | 0/469 [00:00<?, ?it/s]"
          ],
          "name": "stderr"
        },
        {
          "output_type": "stream",
          "text": [
            "\n",
            "Test set: Average Loss= 0.0340 Batch_id= 78 Accuracy= 9904/10000 (99.04%)\n",
            "\n"
          ],
          "name": "stdout"
        },
        {
          "output_type": "stream",
          "text": [
            "GBN&L2: EPOCH= 2 Loss= 0.0437 Batch_id= 468 Accuracy= 98.62: 100%|██████████| 469/469 [00:14<00:00, 32.85it/s]\n",
            "  0%|          | 0/469 [00:00<?, ?it/s]"
          ],
          "name": "stderr"
        },
        {
          "output_type": "stream",
          "text": [
            "\n",
            "Test set: Average Loss= 0.0253 Batch_id= 78 Accuracy= 9929/10000 (99.29%)\n",
            "\n"
          ],
          "name": "stdout"
        },
        {
          "output_type": "stream",
          "text": [
            "GBN&L1&L2: EPOCH= 2 Loss= 0.4416 Batch_id= 468 Accuracy= 98.78: 100%|██████████| 469/469 [00:16<00:00, 29.08it/s]\n",
            "  0%|          | 0/469 [00:00<?, ?it/s]"
          ],
          "name": "stderr"
        },
        {
          "output_type": "stream",
          "text": [
            "\n",
            "Test set: Average Loss= 0.0246 Batch_id= 78 Accuracy= 9930/10000 (99.30%)\n",
            "\n"
          ],
          "name": "stdout"
        },
        {
          "output_type": "stream",
          "text": [
            "L1: EPOCH= 3 Loss= 0.2171 Batch_id= 468 Accuracy= 98.76: 100%|██████████| 469/469 [00:16<00:00, 29.28it/s]\n",
            "  0%|          | 0/469 [00:00<?, ?it/s]"
          ],
          "name": "stderr"
        },
        {
          "output_type": "stream",
          "text": [
            "\n",
            "Test set: Average Loss= 0.0235 Batch_id= 78 Accuracy= 9927/10000 (99.27%)\n",
            "\n"
          ],
          "name": "stdout"
        },
        {
          "output_type": "stream",
          "text": [
            "L2: EPOCH= 3 Loss= 0.0442 Batch_id= 468 Accuracy= 98.80: 100%|██████████| 469/469 [00:13<00:00, 33.84it/s]\n",
            "  0%|          | 0/469 [00:00<?, ?it/s]"
          ],
          "name": "stderr"
        },
        {
          "output_type": "stream",
          "text": [
            "\n",
            "Test set: Average Loss= 0.0214 Batch_id= 78 Accuracy= 9932/10000 (99.32%)\n",
            "\n"
          ],
          "name": "stdout"
        },
        {
          "output_type": "stream",
          "text": [
            "L1&L2: EPOCH= 3 Loss= 0.2136 Batch_id= 468 Accuracy= 98.72: 100%|██████████| 469/469 [00:16<00:00, 28.96it/s]\n",
            "  0%|          | 0/469 [00:00<?, ?it/s]"
          ],
          "name": "stderr"
        },
        {
          "output_type": "stream",
          "text": [
            "\n",
            "Test set: Average Loss= 0.0235 Batch_id= 78 Accuracy= 9926/10000 (99.26%)\n",
            "\n"
          ],
          "name": "stdout"
        },
        {
          "output_type": "stream",
          "text": [
            "GBN: EPOCH= 3 Loss= 0.0136 Batch_id= 468 Accuracy= 98.84: 100%|██████████| 469/469 [00:14<00:00, 31.91it/s]\n",
            "  0%|          | 0/469 [00:00<?, ?it/s]"
          ],
          "name": "stderr"
        },
        {
          "output_type": "stream",
          "text": [
            "\n",
            "Test set: Average Loss= 0.0241 Batch_id= 78 Accuracy= 9934/10000 (99.34%)\n",
            "\n"
          ],
          "name": "stdout"
        },
        {
          "output_type": "stream",
          "text": [
            "GBN&L2: EPOCH= 3 Loss= 0.0468 Batch_id= 468 Accuracy= 98.85: 100%|██████████| 469/469 [00:14<00:00, 32.62it/s]\n",
            "  0%|          | 0/469 [00:00<?, ?it/s]"
          ],
          "name": "stderr"
        },
        {
          "output_type": "stream",
          "text": [
            "\n",
            "Test set: Average Loss= 0.0226 Batch_id= 78 Accuracy= 9938/10000 (99.38%)\n",
            "\n"
          ],
          "name": "stdout"
        },
        {
          "output_type": "stream",
          "text": [
            "GBN&L1&L2: EPOCH= 3 Loss= 0.4367 Batch_id= 468 Accuracy= 98.83: 100%|██████████| 469/469 [00:16<00:00, 28.41it/s]\n",
            "  0%|          | 0/469 [00:00<?, ?it/s]"
          ],
          "name": "stderr"
        },
        {
          "output_type": "stream",
          "text": [
            "\n",
            "Test set: Average Loss= 0.0231 Batch_id= 78 Accuracy= 9935/10000 (99.35%)\n",
            "\n"
          ],
          "name": "stdout"
        },
        {
          "output_type": "stream",
          "text": [
            "L1: EPOCH= 4 Loss= 0.2510 Batch_id= 468 Accuracy= 98.71: 100%|██████████| 469/469 [00:15<00:00, 29.54it/s]\n",
            "  0%|          | 0/469 [00:00<?, ?it/s]"
          ],
          "name": "stderr"
        },
        {
          "output_type": "stream",
          "text": [
            "\n",
            "Test set: Average Loss= 0.0231 Batch_id= 78 Accuracy= 9927/10000 (99.27%)\n",
            "\n"
          ],
          "name": "stdout"
        },
        {
          "output_type": "stream",
          "text": [
            "L2: EPOCH= 4 Loss= 0.0202 Batch_id= 468 Accuracy= 98.72: 100%|██████████| 469/469 [00:14<00:00, 32.46it/s]\n",
            "  0%|          | 0/469 [00:00<?, ?it/s]"
          ],
          "name": "stderr"
        },
        {
          "output_type": "stream",
          "text": [
            "\n",
            "Test set: Average Loss= 0.0208 Batch_id= 78 Accuracy= 9935/10000 (99.35%)\n",
            "\n"
          ],
          "name": "stdout"
        },
        {
          "output_type": "stream",
          "text": [
            "L1&L2: EPOCH= 4 Loss= 0.2380 Batch_id= 468 Accuracy= 99.03: 100%|██████████| 469/469 [00:16<00:00, 28.86it/s]\n",
            "  0%|          | 0/469 [00:00<?, ?it/s]"
          ],
          "name": "stderr"
        },
        {
          "output_type": "stream",
          "text": [
            "\n",
            "Test set: Average Loss= 0.0182 Batch_id= 78 Accuracy= 9942/10000 (99.42%)\n",
            "\n"
          ],
          "name": "stdout"
        },
        {
          "output_type": "stream",
          "text": [
            "GBN: EPOCH= 4 Loss= 0.0956 Batch_id= 468 Accuracy= 98.78: 100%|██████████| 469/469 [00:14<00:00, 31.63it/s]\n",
            "  0%|          | 0/469 [00:00<?, ?it/s]"
          ],
          "name": "stderr"
        },
        {
          "output_type": "stream",
          "text": [
            "\n",
            "Test set: Average Loss= 0.0229 Batch_id= 78 Accuracy= 9939/10000 (99.39%)\n",
            "\n"
          ],
          "name": "stdout"
        },
        {
          "output_type": "stream",
          "text": [
            "GBN&L2: EPOCH= 4 Loss= 0.0541 Batch_id= 468 Accuracy= 98.88: 100%|██████████| 469/469 [00:14<00:00, 33.05it/s]\n",
            "  0%|          | 0/469 [00:00<?, ?it/s]"
          ],
          "name": "stderr"
        },
        {
          "output_type": "stream",
          "text": [
            "\n",
            "Test set: Average Loss= 0.0222 Batch_id= 78 Accuracy= 9937/10000 (99.37%)\n",
            "\n"
          ],
          "name": "stdout"
        },
        {
          "output_type": "stream",
          "text": [
            "GBN&L1&L2: EPOCH= 4 Loss= 0.4318 Batch_id= 468 Accuracy= 98.93: 100%|██████████| 469/469 [00:17<00:00, 27.49it/s]\n",
            "  0%|          | 0/469 [00:00<?, ?it/s]"
          ],
          "name": "stderr"
        },
        {
          "output_type": "stream",
          "text": [
            "\n",
            "Test set: Average Loss= 0.0218 Batch_id= 78 Accuracy= 9936/10000 (99.36%)\n",
            "\n"
          ],
          "name": "stdout"
        },
        {
          "output_type": "stream",
          "text": [
            "L1: EPOCH= 5 Loss= 0.2449 Batch_id= 468 Accuracy= 99.06: 100%|██████████| 469/469 [00:15<00:00, 29.90it/s]\n",
            "  0%|          | 0/469 [00:00<?, ?it/s]"
          ],
          "name": "stderr"
        },
        {
          "output_type": "stream",
          "text": [
            "\n",
            "Test set: Average Loss= 0.0189 Batch_id= 78 Accuracy= 9943/10000 (99.43%)\n",
            "\n"
          ],
          "name": "stdout"
        },
        {
          "output_type": "stream",
          "text": [
            "L2: EPOCH= 5 Loss= 0.0213 Batch_id= 468 Accuracy= 99.05: 100%|██████████| 469/469 [00:14<00:00, 33.47it/s]\n",
            "  0%|          | 0/469 [00:00<?, ?it/s]"
          ],
          "name": "stderr"
        },
        {
          "output_type": "stream",
          "text": [
            "\n",
            "Test set: Average Loss= 0.0181 Batch_id= 78 Accuracy= 9949/10000 (99.49%)\n",
            "\n"
          ],
          "name": "stdout"
        },
        {
          "output_type": "stream",
          "text": [
            "L1&L2: EPOCH= 5 Loss= 0.2301 Batch_id= 468 Accuracy= 99.02: 100%|██████████| 469/469 [00:16<00:00, 29.04it/s]\n",
            "  0%|          | 0/469 [00:00<?, ?it/s]"
          ],
          "name": "stderr"
        },
        {
          "output_type": "stream",
          "text": [
            "\n",
            "Test set: Average Loss= 0.0182 Batch_id= 78 Accuracy= 9945/10000 (99.45%)\n",
            "\n"
          ],
          "name": "stdout"
        },
        {
          "output_type": "stream",
          "text": [
            "GBN: EPOCH= 5 Loss= 0.0082 Batch_id= 468 Accuracy= 98.97: 100%|██████████| 469/469 [00:14<00:00, 31.80it/s]\n",
            "  0%|          | 0/469 [00:00<?, ?it/s]"
          ],
          "name": "stderr"
        },
        {
          "output_type": "stream",
          "text": [
            "\n",
            "Test set: Average Loss= 0.0211 Batch_id= 78 Accuracy= 9942/10000 (99.42%)\n",
            "\n"
          ],
          "name": "stdout"
        },
        {
          "output_type": "stream",
          "text": [
            "GBN&L2: EPOCH= 5 Loss= 0.0384 Batch_id= 468 Accuracy= 98.94: 100%|██████████| 469/469 [00:14<00:00, 33.42it/s]\n",
            "  0%|          | 0/469 [00:00<?, ?it/s]"
          ],
          "name": "stderr"
        },
        {
          "output_type": "stream",
          "text": [
            "\n",
            "Test set: Average Loss= 0.0210 Batch_id= 78 Accuracy= 9941/10000 (99.41%)\n",
            "\n"
          ],
          "name": "stdout"
        },
        {
          "output_type": "stream",
          "text": [
            "GBN&L1&L2: EPOCH= 5 Loss= 0.4134 Batch_id= 468 Accuracy= 99.00: 100%|██████████| 469/469 [00:16<00:00, 28.90it/s]\n",
            "  0%|          | 0/469 [00:00<?, ?it/s]"
          ],
          "name": "stderr"
        },
        {
          "output_type": "stream",
          "text": [
            "\n",
            "Test set: Average Loss= 0.0213 Batch_id= 78 Accuracy= 9941/10000 (99.41%)\n",
            "\n"
          ],
          "name": "stdout"
        },
        {
          "output_type": "stream",
          "text": [
            "L1: EPOCH= 6 Loss= 0.1906 Batch_id= 468 Accuracy= 99.04: 100%|██████████| 469/469 [00:15<00:00, 29.90it/s]\n",
            "  0%|          | 0/469 [00:00<?, ?it/s]"
          ],
          "name": "stderr"
        },
        {
          "output_type": "stream",
          "text": [
            "\n",
            "Test set: Average Loss= 0.0184 Batch_id= 78 Accuracy= 9943/10000 (99.43%)\n",
            "\n"
          ],
          "name": "stdout"
        },
        {
          "output_type": "stream",
          "text": [
            "L2: EPOCH= 6 Loss= 0.0378 Batch_id= 468 Accuracy= 99.04: 100%|██████████| 469/469 [00:13<00:00, 33.69it/s]\n",
            "  0%|          | 0/469 [00:00<?, ?it/s]"
          ],
          "name": "stderr"
        },
        {
          "output_type": "stream",
          "text": [
            "\n",
            "Test set: Average Loss= 0.0183 Batch_id= 78 Accuracy= 9945/10000 (99.45%)\n",
            "\n"
          ],
          "name": "stdout"
        },
        {
          "output_type": "stream",
          "text": [
            "L1&L2: EPOCH= 6 Loss= 0.2192 Batch_id= 468 Accuracy= 99.11: 100%|██████████| 469/469 [00:15<00:00, 30.41it/s]\n",
            "  0%|          | 0/469 [00:00<?, ?it/s]"
          ],
          "name": "stderr"
        },
        {
          "output_type": "stream",
          "text": [
            "\n",
            "Test set: Average Loss= 0.0184 Batch_id= 78 Accuracy= 9942/10000 (99.42%)\n",
            "\n"
          ],
          "name": "stdout"
        },
        {
          "output_type": "stream",
          "text": [
            "GBN: EPOCH= 6 Loss= 0.0122 Batch_id= 468 Accuracy= 98.96: 100%|██████████| 469/469 [00:14<00:00, 32.39it/s]\n",
            "  0%|          | 0/469 [00:00<?, ?it/s]"
          ],
          "name": "stderr"
        },
        {
          "output_type": "stream",
          "text": [
            "\n",
            "Test set: Average Loss= 0.0213 Batch_id= 78 Accuracy= 9943/10000 (99.43%)\n",
            "\n"
          ],
          "name": "stdout"
        },
        {
          "output_type": "stream",
          "text": [
            "GBN&L2: EPOCH= 6 Loss= 0.0330 Batch_id= 468 Accuracy= 98.97: 100%|██████████| 469/469 [00:14<00:00, 32.96it/s]\n",
            "  0%|          | 0/469 [00:00<?, ?it/s]"
          ],
          "name": "stderr"
        },
        {
          "output_type": "stream",
          "text": [
            "\n",
            "Test set: Average Loss= 0.0211 Batch_id= 78 Accuracy= 9940/10000 (99.40%)\n",
            "\n"
          ],
          "name": "stdout"
        },
        {
          "output_type": "stream",
          "text": [
            "GBN&L1&L2: EPOCH= 6 Loss= 0.4364 Batch_id= 468 Accuracy= 98.96: 100%|██████████| 469/469 [00:16<00:00, 28.79it/s]\n",
            "  0%|          | 0/469 [00:00<?, ?it/s]"
          ],
          "name": "stderr"
        },
        {
          "output_type": "stream",
          "text": [
            "\n",
            "Test set: Average Loss= 0.0210 Batch_id= 78 Accuracy= 9942/10000 (99.42%)\n",
            "\n"
          ],
          "name": "stdout"
        },
        {
          "output_type": "stream",
          "text": [
            "L1: EPOCH= 7 Loss= 0.2079 Batch_id= 468 Accuracy= 99.08: 100%|██████████| 469/469 [00:15<00:00, 29.92it/s]\n",
            "  0%|          | 0/469 [00:00<?, ?it/s]"
          ],
          "name": "stderr"
        },
        {
          "output_type": "stream",
          "text": [
            "\n",
            "Test set: Average Loss= 0.0183 Batch_id= 78 Accuracy= 9942/10000 (99.42%)\n",
            "\n"
          ],
          "name": "stdout"
        },
        {
          "output_type": "stream",
          "text": [
            "L2: EPOCH= 7 Loss= 0.0086 Batch_id= 468 Accuracy= 99.13: 100%|██████████| 469/469 [00:14<00:00, 33.16it/s]\n",
            "  0%|          | 0/469 [00:00<?, ?it/s]"
          ],
          "name": "stderr"
        },
        {
          "output_type": "stream",
          "text": [
            "\n",
            "Test set: Average Loss= 0.0181 Batch_id= 78 Accuracy= 9940/10000 (99.40%)\n",
            "\n"
          ],
          "name": "stdout"
        },
        {
          "output_type": "stream",
          "text": [
            "L1&L2: EPOCH= 7 Loss= 0.2561 Batch_id= 468 Accuracy= 99.11: 100%|██████████| 469/469 [00:15<00:00, 30.04it/s]\n",
            "  0%|          | 0/469 [00:00<?, ?it/s]"
          ],
          "name": "stderr"
        },
        {
          "output_type": "stream",
          "text": [
            "\n",
            "Test set: Average Loss= 0.0179 Batch_id= 78 Accuracy= 9939/10000 (99.39%)\n",
            "\n"
          ],
          "name": "stdout"
        },
        {
          "output_type": "stream",
          "text": [
            "GBN: EPOCH= 7 Loss= 0.0399 Batch_id= 468 Accuracy= 98.90: 100%|██████████| 469/469 [00:14<00:00, 32.26it/s]\n",
            "  0%|          | 0/469 [00:00<?, ?it/s]"
          ],
          "name": "stderr"
        },
        {
          "output_type": "stream",
          "text": [
            "\n",
            "Test set: Average Loss= 0.0211 Batch_id= 78 Accuracy= 9940/10000 (99.40%)\n",
            "\n"
          ],
          "name": "stdout"
        },
        {
          "output_type": "stream",
          "text": [
            "GBN&L2: EPOCH= 7 Loss= 0.0573 Batch_id= 468 Accuracy= 98.97: 100%|██████████| 469/469 [00:14<00:00, 31.29it/s]\n",
            "  0%|          | 0/469 [00:00<?, ?it/s]"
          ],
          "name": "stderr"
        },
        {
          "output_type": "stream",
          "text": [
            "\n",
            "Test set: Average Loss= 0.0214 Batch_id= 78 Accuracy= 9938/10000 (99.38%)\n",
            "\n"
          ],
          "name": "stdout"
        },
        {
          "output_type": "stream",
          "text": [
            "GBN&L1&L2: EPOCH= 7 Loss= 0.4029 Batch_id= 468 Accuracy= 98.98: 100%|██████████| 469/469 [00:16<00:00, 28.69it/s]\n",
            "  0%|          | 0/469 [00:00<?, ?it/s]"
          ],
          "name": "stderr"
        },
        {
          "output_type": "stream",
          "text": [
            "\n",
            "Test set: Average Loss= 0.0210 Batch_id= 78 Accuracy= 9940/10000 (99.40%)\n",
            "\n"
          ],
          "name": "stdout"
        },
        {
          "output_type": "stream",
          "text": [
            "L1: EPOCH= 8 Loss= 0.1978 Batch_id= 468 Accuracy= 99.08: 100%|██████████| 469/469 [00:16<00:00, 28.42it/s]\n",
            "  0%|          | 0/469 [00:00<?, ?it/s]"
          ],
          "name": "stderr"
        },
        {
          "output_type": "stream",
          "text": [
            "\n",
            "Test set: Average Loss= 0.0182 Batch_id= 78 Accuracy= 9943/10000 (99.43%)\n",
            "\n"
          ],
          "name": "stdout"
        },
        {
          "output_type": "stream",
          "text": [
            "L2: EPOCH= 8 Loss= 0.0369 Batch_id= 468 Accuracy= 99.09: 100%|██████████| 469/469 [00:14<00:00, 33.39it/s]\n",
            "  0%|          | 0/469 [00:00<?, ?it/s]"
          ],
          "name": "stderr"
        },
        {
          "output_type": "stream",
          "text": [
            "\n",
            "Test set: Average Loss= 0.0177 Batch_id= 78 Accuracy= 9941/10000 (99.41%)\n",
            "\n"
          ],
          "name": "stdout"
        },
        {
          "output_type": "stream",
          "text": [
            "L1&L2: EPOCH= 8 Loss= 0.2023 Batch_id= 468 Accuracy= 99.12: 100%|██████████| 469/469 [00:15<00:00, 29.50it/s]\n",
            "  0%|          | 0/469 [00:00<?, ?it/s]"
          ],
          "name": "stderr"
        },
        {
          "output_type": "stream",
          "text": [
            "\n",
            "Test set: Average Loss= 0.0181 Batch_id= 78 Accuracy= 9941/10000 (99.41%)\n",
            "\n"
          ],
          "name": "stdout"
        },
        {
          "output_type": "stream",
          "text": [
            "GBN: EPOCH= 8 Loss= 0.0725 Batch_id= 468 Accuracy= 98.86: 100%|██████████| 469/469 [00:14<00:00, 31.53it/s]\n",
            "  0%|          | 0/469 [00:00<?, ?it/s]"
          ],
          "name": "stderr"
        },
        {
          "output_type": "stream",
          "text": [
            "\n",
            "Test set: Average Loss= 0.0214 Batch_id= 78 Accuracy= 9936/10000 (99.36%)\n",
            "\n"
          ],
          "name": "stdout"
        },
        {
          "output_type": "stream",
          "text": [
            "GBN&L2: EPOCH= 8 Loss= 0.0128 Batch_id= 468 Accuracy= 98.98: 100%|██████████| 469/469 [00:14<00:00, 31.90it/s]\n",
            "  0%|          | 0/469 [00:00<?, ?it/s]"
          ],
          "name": "stderr"
        },
        {
          "output_type": "stream",
          "text": [
            "\n",
            "Test set: Average Loss= 0.0213 Batch_id= 78 Accuracy= 9942/10000 (99.42%)\n",
            "\n"
          ],
          "name": "stdout"
        },
        {
          "output_type": "stream",
          "text": [
            "GBN&L1&L2: EPOCH= 8 Loss= 0.4142 Batch_id= 468 Accuracy= 98.98: 100%|██████████| 469/469 [00:16<00:00, 28.89it/s]\n",
            "  0%|          | 0/469 [00:00<?, ?it/s]"
          ],
          "name": "stderr"
        },
        {
          "output_type": "stream",
          "text": [
            "\n",
            "Test set: Average Loss= 0.0209 Batch_id= 78 Accuracy= 9941/10000 (99.41%)\n",
            "\n"
          ],
          "name": "stdout"
        },
        {
          "output_type": "stream",
          "text": [
            "L1: EPOCH= 9 Loss= 0.2286 Batch_id= 468 Accuracy= 99.06: 100%|██████████| 469/469 [00:15<00:00, 30.31it/s]\n",
            "  0%|          | 0/469 [00:00<?, ?it/s]"
          ],
          "name": "stderr"
        },
        {
          "output_type": "stream",
          "text": [
            "\n",
            "Test set: Average Loss= 0.0178 Batch_id= 78 Accuracy= 9943/10000 (99.43%)\n",
            "\n"
          ],
          "name": "stdout"
        },
        {
          "output_type": "stream",
          "text": [
            "L2: EPOCH= 9 Loss= 0.0250 Batch_id= 468 Accuracy= 99.11: 100%|██████████| 469/469 [00:13<00:00, 33.56it/s]\n",
            "  0%|          | 0/469 [00:00<?, ?it/s]"
          ],
          "name": "stderr"
        },
        {
          "output_type": "stream",
          "text": [
            "\n",
            "Test set: Average Loss= 0.0180 Batch_id= 78 Accuracy= 9938/10000 (99.38%)\n",
            "\n"
          ],
          "name": "stdout"
        },
        {
          "output_type": "stream",
          "text": [
            "L1&L2: EPOCH= 9 Loss= 0.3615 Batch_id= 468 Accuracy= 99.13: 100%|██████████| 469/469 [00:15<00:00, 29.98it/s]\n",
            "  0%|          | 0/469 [00:00<?, ?it/s]"
          ],
          "name": "stderr"
        },
        {
          "output_type": "stream",
          "text": [
            "\n",
            "Test set: Average Loss= 0.0182 Batch_id= 78 Accuracy= 9942/10000 (99.42%)\n",
            "\n"
          ],
          "name": "stdout"
        },
        {
          "output_type": "stream",
          "text": [
            "GBN: EPOCH= 9 Loss= 0.0215 Batch_id= 468 Accuracy= 98.93: 100%|██████████| 469/469 [00:14<00:00, 32.65it/s]\n",
            "  0%|          | 0/469 [00:00<?, ?it/s]"
          ],
          "name": "stderr"
        },
        {
          "output_type": "stream",
          "text": [
            "\n",
            "Test set: Average Loss= 0.0210 Batch_id= 78 Accuracy= 9942/10000 (99.42%)\n",
            "\n"
          ],
          "name": "stdout"
        },
        {
          "output_type": "stream",
          "text": [
            "GBN&L2: EPOCH= 9 Loss= 0.0514 Batch_id= 468 Accuracy= 99.00: 100%|██████████| 469/469 [00:14<00:00, 33.02it/s]\n",
            "  0%|          | 0/469 [00:00<?, ?it/s]"
          ],
          "name": "stderr"
        },
        {
          "output_type": "stream",
          "text": [
            "\n",
            "Test set: Average Loss= 0.0209 Batch_id= 78 Accuracy= 9944/10000 (99.44%)\n",
            "\n"
          ],
          "name": "stdout"
        },
        {
          "output_type": "stream",
          "text": [
            "GBN&L1&L2: EPOCH= 9 Loss= 0.4071 Batch_id= 468 Accuracy= 99.01: 100%|██████████| 469/469 [00:16<00:00, 28.30it/s]\n",
            "  0%|          | 0/469 [00:00<?, ?it/s]"
          ],
          "name": "stderr"
        },
        {
          "output_type": "stream",
          "text": [
            "\n",
            "Test set: Average Loss= 0.0214 Batch_id= 78 Accuracy= 9940/10000 (99.40%)\n",
            "\n"
          ],
          "name": "stdout"
        },
        {
          "output_type": "stream",
          "text": [
            "L1: EPOCH= 10 Loss= 0.2363 Batch_id= 468 Accuracy= 99.08: 100%|██████████| 469/469 [00:15<00:00, 30.03it/s]\n",
            "  0%|          | 0/469 [00:00<?, ?it/s]"
          ],
          "name": "stderr"
        },
        {
          "output_type": "stream",
          "text": [
            "\n",
            "Test set: Average Loss= 0.0179 Batch_id= 78 Accuracy= 9944/10000 (99.44%)\n",
            "\n"
          ],
          "name": "stdout"
        },
        {
          "output_type": "stream",
          "text": [
            "L2: EPOCH= 10 Loss= 0.0261 Batch_id= 468 Accuracy= 99.11: 100%|██████████| 469/469 [00:14<00:00, 33.48it/s]\n",
            "  0%|          | 0/469 [00:00<?, ?it/s]"
          ],
          "name": "stderr"
        },
        {
          "output_type": "stream",
          "text": [
            "\n",
            "Test set: Average Loss= 0.0177 Batch_id= 78 Accuracy= 9940/10000 (99.40%)\n",
            "\n"
          ],
          "name": "stdout"
        },
        {
          "output_type": "stream",
          "text": [
            "L1&L2: EPOCH= 10 Loss= 0.2029 Batch_id= 468 Accuracy= 99.12: 100%|██████████| 469/469 [00:15<00:00, 30.27it/s]\n",
            "  0%|          | 0/469 [00:00<?, ?it/s]"
          ],
          "name": "stderr"
        },
        {
          "output_type": "stream",
          "text": [
            "\n",
            "Test set: Average Loss= 0.0180 Batch_id= 78 Accuracy= 9943/10000 (99.43%)\n",
            "\n"
          ],
          "name": "stdout"
        },
        {
          "output_type": "stream",
          "text": [
            "GBN: EPOCH= 10 Loss= 0.0837 Batch_id= 468 Accuracy= 98.98: 100%|██████████| 469/469 [00:14<00:00, 31.89it/s]\n",
            "  0%|          | 0/469 [00:00<?, ?it/s]"
          ],
          "name": "stderr"
        },
        {
          "output_type": "stream",
          "text": [
            "\n",
            "Test set: Average Loss= 0.0211 Batch_id= 78 Accuracy= 9940/10000 (99.40%)\n",
            "\n"
          ],
          "name": "stdout"
        },
        {
          "output_type": "stream",
          "text": [
            "GBN&L2: EPOCH= 10 Loss= 0.0323 Batch_id= 468 Accuracy= 98.98: 100%|██████████| 469/469 [00:14<00:00, 32.33it/s]\n",
            "  0%|          | 0/469 [00:00<?, ?it/s]"
          ],
          "name": "stderr"
        },
        {
          "output_type": "stream",
          "text": [
            "\n",
            "Test set: Average Loss= 0.0211 Batch_id= 78 Accuracy= 9942/10000 (99.42%)\n",
            "\n"
          ],
          "name": "stdout"
        },
        {
          "output_type": "stream",
          "text": [
            "GBN&L1&L2: EPOCH= 10 Loss= 0.3987 Batch_id= 468 Accuracy= 99.00: 100%|██████████| 469/469 [00:16<00:00, 28.18it/s]\n",
            "  0%|          | 0/469 [00:00<?, ?it/s]"
          ],
          "name": "stderr"
        },
        {
          "output_type": "stream",
          "text": [
            "\n",
            "Test set: Average Loss= 0.0210 Batch_id= 78 Accuracy= 9945/10000 (99.45%)\n",
            "\n"
          ],
          "name": "stdout"
        },
        {
          "output_type": "stream",
          "text": [
            "L1: EPOCH= 11 Loss= 0.2205 Batch_id= 468 Accuracy= 99.08: 100%|██████████| 469/469 [00:16<00:00, 28.60it/s]\n",
            "  0%|          | 0/469 [00:00<?, ?it/s]"
          ],
          "name": "stderr"
        },
        {
          "output_type": "stream",
          "text": [
            "\n",
            "Test set: Average Loss= 0.0177 Batch_id= 78 Accuracy= 9944/10000 (99.44%)\n",
            "\n"
          ],
          "name": "stdout"
        },
        {
          "output_type": "stream",
          "text": [
            "L2: EPOCH= 11 Loss= 0.0244 Batch_id= 468 Accuracy= 99.03: 100%|██████████| 469/469 [00:14<00:00, 33.18it/s]\n",
            "  0%|          | 0/469 [00:00<?, ?it/s]"
          ],
          "name": "stderr"
        },
        {
          "output_type": "stream",
          "text": [
            "\n",
            "Test set: Average Loss= 0.0181 Batch_id= 78 Accuracy= 9940/10000 (99.40%)\n",
            "\n"
          ],
          "name": "stdout"
        },
        {
          "output_type": "stream",
          "text": [
            "L1&L2: EPOCH= 11 Loss= 0.1987 Batch_id= 468 Accuracy= 99.08: 100%|██████████| 469/469 [00:15<00:00, 30.00it/s]\n",
            "  0%|          | 0/469 [00:00<?, ?it/s]"
          ],
          "name": "stderr"
        },
        {
          "output_type": "stream",
          "text": [
            "\n",
            "Test set: Average Loss= 0.0179 Batch_id= 78 Accuracy= 9942/10000 (99.42%)\n",
            "\n"
          ],
          "name": "stdout"
        },
        {
          "output_type": "stream",
          "text": [
            "GBN: EPOCH= 11 Loss= 0.0316 Batch_id= 468 Accuracy= 98.98: 100%|██████████| 469/469 [00:14<00:00, 32.50it/s]\n",
            "  0%|          | 0/469 [00:00<?, ?it/s]"
          ],
          "name": "stderr"
        },
        {
          "output_type": "stream",
          "text": [
            "\n",
            "Test set: Average Loss= 0.0210 Batch_id= 78 Accuracy= 9942/10000 (99.42%)\n",
            "\n"
          ],
          "name": "stdout"
        },
        {
          "output_type": "stream",
          "text": [
            "GBN&L2: EPOCH= 11 Loss= 0.0400 Batch_id= 468 Accuracy= 98.94: 100%|██████████| 469/469 [00:14<00:00, 32.23it/s]\n",
            "  0%|          | 0/469 [00:00<?, ?it/s]"
          ],
          "name": "stderr"
        },
        {
          "output_type": "stream",
          "text": [
            "\n",
            "Test set: Average Loss= 0.0212 Batch_id= 78 Accuracy= 9941/10000 (99.41%)\n",
            "\n"
          ],
          "name": "stdout"
        },
        {
          "output_type": "stream",
          "text": [
            "GBN&L1&L2: EPOCH= 11 Loss= 0.4279 Batch_id= 468 Accuracy= 98.98: 100%|██████████| 469/469 [00:16<00:00, 28.81it/s]\n",
            "  0%|          | 0/469 [00:00<?, ?it/s]"
          ],
          "name": "stderr"
        },
        {
          "output_type": "stream",
          "text": [
            "\n",
            "Test set: Average Loss= 0.0210 Batch_id= 78 Accuracy= 9943/10000 (99.43%)\n",
            "\n"
          ],
          "name": "stdout"
        },
        {
          "output_type": "stream",
          "text": [
            "L1: EPOCH= 12 Loss= 0.2457 Batch_id= 468 Accuracy= 99.06: 100%|██████████| 469/469 [00:15<00:00, 30.22it/s]\n",
            "  0%|          | 0/469 [00:00<?, ?it/s]"
          ],
          "name": "stderr"
        },
        {
          "output_type": "stream",
          "text": [
            "\n",
            "Test set: Average Loss= 0.0176 Batch_id= 78 Accuracy= 9944/10000 (99.44%)\n",
            "\n"
          ],
          "name": "stdout"
        },
        {
          "output_type": "stream",
          "text": [
            "L2: EPOCH= 12 Loss= 0.0583 Batch_id= 468 Accuracy= 99.11: 100%|██████████| 469/469 [00:13<00:00, 33.75it/s]\n",
            "  0%|          | 0/469 [00:00<?, ?it/s]"
          ],
          "name": "stderr"
        },
        {
          "output_type": "stream",
          "text": [
            "\n",
            "Test set: Average Loss= 0.0178 Batch_id= 78 Accuracy= 9939/10000 (99.39%)\n",
            "\n"
          ],
          "name": "stdout"
        },
        {
          "output_type": "stream",
          "text": [
            "L1&L2: EPOCH= 12 Loss= 0.2707 Batch_id= 468 Accuracy= 99.10: 100%|██████████| 469/469 [00:15<00:00, 30.48it/s]\n",
            "  0%|          | 0/469 [00:00<?, ?it/s]"
          ],
          "name": "stderr"
        },
        {
          "output_type": "stream",
          "text": [
            "\n",
            "Test set: Average Loss= 0.0179 Batch_id= 78 Accuracy= 9943/10000 (99.43%)\n",
            "\n"
          ],
          "name": "stdout"
        },
        {
          "output_type": "stream",
          "text": [
            "GBN: EPOCH= 12 Loss= 0.0163 Batch_id= 468 Accuracy= 98.99: 100%|██████████| 469/469 [00:14<00:00, 32.44it/s]\n",
            "  0%|          | 0/469 [00:00<?, ?it/s]"
          ],
          "name": "stderr"
        },
        {
          "output_type": "stream",
          "text": [
            "\n",
            "Test set: Average Loss= 0.0213 Batch_id= 78 Accuracy= 9937/10000 (99.37%)\n",
            "\n"
          ],
          "name": "stdout"
        },
        {
          "output_type": "stream",
          "text": [
            "GBN&L2: EPOCH= 12 Loss= 0.0134 Batch_id= 468 Accuracy= 99.05: 100%|██████████| 469/469 [00:14<00:00, 31.56it/s]\n",
            "  0%|          | 0/469 [00:00<?, ?it/s]"
          ],
          "name": "stderr"
        },
        {
          "output_type": "stream",
          "text": [
            "\n",
            "Test set: Average Loss= 0.0215 Batch_id= 78 Accuracy= 9940/10000 (99.40%)\n",
            "\n"
          ],
          "name": "stdout"
        },
        {
          "output_type": "stream",
          "text": [
            "GBN&L1&L2: EPOCH= 12 Loss= 0.4955 Batch_id= 468 Accuracy= 98.95: 100%|██████████| 469/469 [00:16<00:00, 28.85it/s]\n",
            "  0%|          | 0/469 [00:00<?, ?it/s]"
          ],
          "name": "stderr"
        },
        {
          "output_type": "stream",
          "text": [
            "\n",
            "Test set: Average Loss= 0.0213 Batch_id= 78 Accuracy= 9941/10000 (99.41%)\n",
            "\n"
          ],
          "name": "stdout"
        },
        {
          "output_type": "stream",
          "text": [
            "L1: EPOCH= 13 Loss= 0.2331 Batch_id= 468 Accuracy= 99.08: 100%|██████████| 469/469 [00:15<00:00, 29.45it/s]\n",
            "  0%|          | 0/469 [00:00<?, ?it/s]"
          ],
          "name": "stderr"
        },
        {
          "output_type": "stream",
          "text": [
            "\n",
            "Test set: Average Loss= 0.0178 Batch_id= 78 Accuracy= 9939/10000 (99.39%)\n",
            "\n"
          ],
          "name": "stdout"
        },
        {
          "output_type": "stream",
          "text": [
            "L2: EPOCH= 13 Loss= 0.0151 Batch_id= 468 Accuracy= 99.11: 100%|██████████| 469/469 [00:13<00:00, 34.22it/s]\n",
            "  0%|          | 0/469 [00:00<?, ?it/s]"
          ],
          "name": "stderr"
        },
        {
          "output_type": "stream",
          "text": [
            "\n",
            "Test set: Average Loss= 0.0180 Batch_id= 78 Accuracy= 9940/10000 (99.40%)\n",
            "\n"
          ],
          "name": "stdout"
        },
        {
          "output_type": "stream",
          "text": [
            "L1&L2: EPOCH= 13 Loss= 0.2385 Batch_id= 468 Accuracy= 99.11: 100%|██████████| 469/469 [00:15<00:00, 29.83it/s]\n",
            "  0%|          | 0/469 [00:00<?, ?it/s]"
          ],
          "name": "stderr"
        },
        {
          "output_type": "stream",
          "text": [
            "\n",
            "Test set: Average Loss= 0.0179 Batch_id= 78 Accuracy= 9945/10000 (99.45%)\n",
            "\n"
          ],
          "name": "stdout"
        },
        {
          "output_type": "stream",
          "text": [
            "GBN: EPOCH= 13 Loss= 0.0472 Batch_id= 468 Accuracy= 98.99: 100%|██████████| 469/469 [00:14<00:00, 32.37it/s]\n",
            "  0%|          | 0/469 [00:00<?, ?it/s]"
          ],
          "name": "stderr"
        },
        {
          "output_type": "stream",
          "text": [
            "\n",
            "Test set: Average Loss= 0.0209 Batch_id= 78 Accuracy= 9944/10000 (99.44%)\n",
            "\n"
          ],
          "name": "stdout"
        },
        {
          "output_type": "stream",
          "text": [
            "GBN&L2: EPOCH= 13 Loss= 0.0383 Batch_id= 468 Accuracy= 98.96: 100%|██████████| 469/469 [00:14<00:00, 32.21it/s]\n",
            "  0%|          | 0/469 [00:00<?, ?it/s]"
          ],
          "name": "stderr"
        },
        {
          "output_type": "stream",
          "text": [
            "\n",
            "Test set: Average Loss= 0.0211 Batch_id= 78 Accuracy= 9941/10000 (99.41%)\n",
            "\n"
          ],
          "name": "stdout"
        },
        {
          "output_type": "stream",
          "text": [
            "GBN&L1&L2: EPOCH= 13 Loss= 0.4772 Batch_id= 468 Accuracy= 98.95: 100%|██████████| 469/469 [00:16<00:00, 28.50it/s]\n",
            "  0%|          | 0/469 [00:00<?, ?it/s]"
          ],
          "name": "stderr"
        },
        {
          "output_type": "stream",
          "text": [
            "\n",
            "Test set: Average Loss= 0.0212 Batch_id= 78 Accuracy= 9941/10000 (99.41%)\n",
            "\n"
          ],
          "name": "stdout"
        },
        {
          "output_type": "stream",
          "text": [
            "L1: EPOCH= 14 Loss= 0.2395 Batch_id= 468 Accuracy= 99.07: 100%|██████████| 469/469 [00:15<00:00, 30.80it/s]\n",
            "  0%|          | 0/469 [00:00<?, ?it/s]"
          ],
          "name": "stderr"
        },
        {
          "output_type": "stream",
          "text": [
            "\n",
            "Test set: Average Loss= 0.0180 Batch_id= 78 Accuracy= 9940/10000 (99.40%)\n",
            "\n"
          ],
          "name": "stdout"
        },
        {
          "output_type": "stream",
          "text": [
            "L2: EPOCH= 14 Loss= 0.0973 Batch_id= 468 Accuracy= 99.09: 100%|██████████| 469/469 [00:14<00:00, 32.47it/s]\n",
            "  0%|          | 0/469 [00:00<?, ?it/s]"
          ],
          "name": "stderr"
        },
        {
          "output_type": "stream",
          "text": [
            "\n",
            "Test set: Average Loss= 0.0179 Batch_id= 78 Accuracy= 9945/10000 (99.45%)\n",
            "\n"
          ],
          "name": "stdout"
        },
        {
          "output_type": "stream",
          "text": [
            "L1&L2: EPOCH= 14 Loss= 0.1943 Batch_id= 468 Accuracy= 99.06: 100%|██████████| 469/469 [00:15<00:00, 29.92it/s]\n",
            "  0%|          | 0/469 [00:00<?, ?it/s]"
          ],
          "name": "stderr"
        },
        {
          "output_type": "stream",
          "text": [
            "\n",
            "Test set: Average Loss= 0.0178 Batch_id= 78 Accuracy= 9937/10000 (99.37%)\n",
            "\n"
          ],
          "name": "stdout"
        },
        {
          "output_type": "stream",
          "text": [
            "GBN: EPOCH= 14 Loss= 0.0297 Batch_id= 468 Accuracy= 98.97: 100%|██████████| 469/469 [00:14<00:00, 32.30it/s]\n",
            "  0%|          | 0/469 [00:00<?, ?it/s]"
          ],
          "name": "stderr"
        },
        {
          "output_type": "stream",
          "text": [
            "\n",
            "Test set: Average Loss= 0.0209 Batch_id= 78 Accuracy= 9942/10000 (99.42%)\n",
            "\n"
          ],
          "name": "stdout"
        },
        {
          "output_type": "stream",
          "text": [
            "GBN&L2: EPOCH= 14 Loss= 0.0540 Batch_id= 468 Accuracy= 98.99: 100%|██████████| 469/469 [00:14<00:00, 31.68it/s]\n",
            "  0%|          | 0/469 [00:00<?, ?it/s]"
          ],
          "name": "stderr"
        },
        {
          "output_type": "stream",
          "text": [
            "\n",
            "Test set: Average Loss= 0.0215 Batch_id= 78 Accuracy= 9937/10000 (99.37%)\n",
            "\n"
          ],
          "name": "stdout"
        },
        {
          "output_type": "stream",
          "text": [
            "GBN&L1&L2: EPOCH= 14 Loss= 0.4244 Batch_id= 468 Accuracy= 98.95: 100%|██████████| 469/469 [00:16<00:00, 28.68it/s]\n",
            "  0%|          | 0/469 [00:00<?, ?it/s]"
          ],
          "name": "stderr"
        },
        {
          "output_type": "stream",
          "text": [
            "\n",
            "Test set: Average Loss= 0.0212 Batch_id= 78 Accuracy= 9940/10000 (99.40%)\n",
            "\n"
          ],
          "name": "stdout"
        },
        {
          "output_type": "stream",
          "text": [
            "L1: EPOCH= 15 Loss= 0.2915 Batch_id= 468 Accuracy= 99.06: 100%|██████████| 469/469 [00:15<00:00, 29.44it/s]\n",
            "  0%|          | 0/469 [00:00<?, ?it/s]"
          ],
          "name": "stderr"
        },
        {
          "output_type": "stream",
          "text": [
            "\n",
            "Test set: Average Loss= 0.0177 Batch_id= 78 Accuracy= 9942/10000 (99.42%)\n",
            "\n"
          ],
          "name": "stdout"
        },
        {
          "output_type": "stream",
          "text": [
            "L2: EPOCH= 15 Loss= 0.0362 Batch_id= 468 Accuracy= 99.09: 100%|██████████| 469/469 [00:13<00:00, 34.17it/s]\n",
            "  0%|          | 0/469 [00:00<?, ?it/s]"
          ],
          "name": "stderr"
        },
        {
          "output_type": "stream",
          "text": [
            "\n",
            "Test set: Average Loss= 0.0183 Batch_id= 78 Accuracy= 9940/10000 (99.40%)\n",
            "\n"
          ],
          "name": "stdout"
        },
        {
          "output_type": "stream",
          "text": [
            "L1&L2: EPOCH= 15 Loss= 0.2736 Batch_id= 468 Accuracy= 99.13: 100%|██████████| 469/469 [00:15<00:00, 29.69it/s]\n",
            "  0%|          | 0/469 [00:00<?, ?it/s]"
          ],
          "name": "stderr"
        },
        {
          "output_type": "stream",
          "text": [
            "\n",
            "Test set: Average Loss= 0.0179 Batch_id= 78 Accuracy= 9943/10000 (99.43%)\n",
            "\n"
          ],
          "name": "stdout"
        },
        {
          "output_type": "stream",
          "text": [
            "GBN: EPOCH= 15 Loss= 0.0690 Batch_id= 468 Accuracy= 98.99: 100%|██████████| 469/469 [00:14<00:00, 32.54it/s]\n",
            "  0%|          | 0/469 [00:00<?, ?it/s]"
          ],
          "name": "stderr"
        },
        {
          "output_type": "stream",
          "text": [
            "\n",
            "Test set: Average Loss= 0.0209 Batch_id= 78 Accuracy= 9944/10000 (99.44%)\n",
            "\n"
          ],
          "name": "stdout"
        },
        {
          "output_type": "stream",
          "text": [
            "GBN&L2: EPOCH= 15 Loss= 0.0525 Batch_id= 468 Accuracy= 98.94: 100%|██████████| 469/469 [00:14<00:00, 32.74it/s]\n",
            "  0%|          | 0/469 [00:00<?, ?it/s]"
          ],
          "name": "stderr"
        },
        {
          "output_type": "stream",
          "text": [
            "\n",
            "Test set: Average Loss= 0.0211 Batch_id= 78 Accuracy= 9943/10000 (99.43%)\n",
            "\n"
          ],
          "name": "stdout"
        },
        {
          "output_type": "stream",
          "text": [
            "GBN&L1&L2: EPOCH= 15 Loss= 0.4269 Batch_id= 468 Accuracy= 98.98: 100%|██████████| 469/469 [00:16<00:00, 28.85it/s]\n",
            "  0%|          | 0/469 [00:00<?, ?it/s]"
          ],
          "name": "stderr"
        },
        {
          "output_type": "stream",
          "text": [
            "\n",
            "Test set: Average Loss= 0.0213 Batch_id= 78 Accuracy= 9939/10000 (99.39%)\n",
            "\n"
          ],
          "name": "stdout"
        },
        {
          "output_type": "stream",
          "text": [
            "L1: EPOCH= 16 Loss= 0.2143 Batch_id= 468 Accuracy= 99.11: 100%|██████████| 469/469 [00:15<00:00, 29.73it/s]\n",
            "  0%|          | 0/469 [00:00<?, ?it/s]"
          ],
          "name": "stderr"
        },
        {
          "output_type": "stream",
          "text": [
            "\n",
            "Test set: Average Loss= 0.0182 Batch_id= 78 Accuracy= 9941/10000 (99.41%)\n",
            "\n"
          ],
          "name": "stdout"
        },
        {
          "output_type": "stream",
          "text": [
            "L2: EPOCH= 16 Loss= 0.0215 Batch_id= 468 Accuracy= 99.14: 100%|██████████| 469/469 [00:14<00:00, 33.08it/s]\n",
            "  0%|          | 0/469 [00:00<?, ?it/s]"
          ],
          "name": "stderr"
        },
        {
          "output_type": "stream",
          "text": [
            "\n",
            "Test set: Average Loss= 0.0181 Batch_id= 78 Accuracy= 9940/10000 (99.40%)\n",
            "\n"
          ],
          "name": "stdout"
        },
        {
          "output_type": "stream",
          "text": [
            "L1&L2: EPOCH= 16 Loss= 0.2435 Batch_id= 468 Accuracy= 99.09: 100%|██████████| 469/469 [00:16<00:00, 29.14it/s]\n",
            "  0%|          | 0/469 [00:00<?, ?it/s]"
          ],
          "name": "stderr"
        },
        {
          "output_type": "stream",
          "text": [
            "\n",
            "Test set: Average Loss= 0.0177 Batch_id= 78 Accuracy= 9944/10000 (99.44%)\n",
            "\n"
          ],
          "name": "stdout"
        },
        {
          "output_type": "stream",
          "text": [
            "GBN: EPOCH= 16 Loss= 0.0314 Batch_id= 468 Accuracy= 99.01: 100%|██████████| 469/469 [00:14<00:00, 32.55it/s]\n",
            "  0%|          | 0/469 [00:00<?, ?it/s]"
          ],
          "name": "stderr"
        },
        {
          "output_type": "stream",
          "text": [
            "\n",
            "Test set: Average Loss= 0.0214 Batch_id= 78 Accuracy= 9941/10000 (99.41%)\n",
            "\n"
          ],
          "name": "stdout"
        },
        {
          "output_type": "stream",
          "text": [
            "GBN&L2: EPOCH= 16 Loss= 0.0267 Batch_id= 468 Accuracy= 99.00: 100%|██████████| 469/469 [00:14<00:00, 31.90it/s]\n",
            "  0%|          | 0/469 [00:00<?, ?it/s]"
          ],
          "name": "stderr"
        },
        {
          "output_type": "stream",
          "text": [
            "\n",
            "Test set: Average Loss= 0.0212 Batch_id= 78 Accuracy= 9940/10000 (99.40%)\n",
            "\n"
          ],
          "name": "stdout"
        },
        {
          "output_type": "stream",
          "text": [
            "GBN&L1&L2: EPOCH= 16 Loss= 0.4180 Batch_id= 468 Accuracy= 98.98: 100%|██████████| 469/469 [00:16<00:00, 28.55it/s]\n",
            "  0%|          | 0/469 [00:00<?, ?it/s]"
          ],
          "name": "stderr"
        },
        {
          "output_type": "stream",
          "text": [
            "\n",
            "Test set: Average Loss= 0.0210 Batch_id= 78 Accuracy= 9941/10000 (99.41%)\n",
            "\n"
          ],
          "name": "stdout"
        },
        {
          "output_type": "stream",
          "text": [
            "L1: EPOCH= 17 Loss= 0.1990 Batch_id= 468 Accuracy= 99.08: 100%|██████████| 469/469 [00:15<00:00, 30.26it/s]\n",
            "  0%|          | 0/469 [00:00<?, ?it/s]"
          ],
          "name": "stderr"
        },
        {
          "output_type": "stream",
          "text": [
            "\n",
            "Test set: Average Loss= 0.0181 Batch_id= 78 Accuracy= 9941/10000 (99.41%)\n",
            "\n"
          ],
          "name": "stdout"
        },
        {
          "output_type": "stream",
          "text": [
            "L2: EPOCH= 17 Loss= 0.0388 Batch_id= 468 Accuracy= 99.11: 100%|██████████| 469/469 [00:13<00:00, 34.08it/s]\n",
            "  0%|          | 0/469 [00:00<?, ?it/s]"
          ],
          "name": "stderr"
        },
        {
          "output_type": "stream",
          "text": [
            "\n",
            "Test set: Average Loss= 0.0179 Batch_id= 78 Accuracy= 9939/10000 (99.39%)\n",
            "\n"
          ],
          "name": "stdout"
        },
        {
          "output_type": "stream",
          "text": [
            "L1&L2: EPOCH= 17 Loss= 0.2234 Batch_id= 468 Accuracy= 99.11: 100%|██████████| 469/469 [00:15<00:00, 29.38it/s]\n",
            "  0%|          | 0/469 [00:00<?, ?it/s]"
          ],
          "name": "stderr"
        },
        {
          "output_type": "stream",
          "text": [
            "\n",
            "Test set: Average Loss= 0.0183 Batch_id= 78 Accuracy= 9942/10000 (99.42%)\n",
            "\n"
          ],
          "name": "stdout"
        },
        {
          "output_type": "stream",
          "text": [
            "GBN: EPOCH= 17 Loss= 0.0357 Batch_id= 468 Accuracy= 98.98: 100%|██████████| 469/469 [00:14<00:00, 31.97it/s]\n",
            "  0%|          | 0/469 [00:00<?, ?it/s]"
          ],
          "name": "stderr"
        },
        {
          "output_type": "stream",
          "text": [
            "\n",
            "Test set: Average Loss= 0.0210 Batch_id= 78 Accuracy= 9942/10000 (99.42%)\n",
            "\n"
          ],
          "name": "stdout"
        },
        {
          "output_type": "stream",
          "text": [
            "GBN&L2: EPOCH= 17 Loss= 0.0302 Batch_id= 468 Accuracy= 99.01: 100%|██████████| 469/469 [00:14<00:00, 32.01it/s]\n",
            "  0%|          | 0/469 [00:00<?, ?it/s]"
          ],
          "name": "stderr"
        },
        {
          "output_type": "stream",
          "text": [
            "\n",
            "Test set: Average Loss= 0.0212 Batch_id= 78 Accuracy= 9943/10000 (99.43%)\n",
            "\n"
          ],
          "name": "stdout"
        },
        {
          "output_type": "stream",
          "text": [
            "GBN&L1&L2: EPOCH= 17 Loss= 0.4046 Batch_id= 468 Accuracy= 98.95: 100%|██████████| 469/469 [00:15<00:00, 29.44it/s]\n",
            "  0%|          | 0/469 [00:00<?, ?it/s]"
          ],
          "name": "stderr"
        },
        {
          "output_type": "stream",
          "text": [
            "\n",
            "Test set: Average Loss= 0.0215 Batch_id= 78 Accuracy= 9943/10000 (99.43%)\n",
            "\n"
          ],
          "name": "stdout"
        },
        {
          "output_type": "stream",
          "text": [
            "L1: EPOCH= 18 Loss= 0.2050 Batch_id= 468 Accuracy= 99.09: 100%|██████████| 469/469 [00:15<00:00, 30.44it/s]\n",
            "  0%|          | 0/469 [00:00<?, ?it/s]"
          ],
          "name": "stderr"
        },
        {
          "output_type": "stream",
          "text": [
            "\n",
            "Test set: Average Loss= 0.0179 Batch_id= 78 Accuracy= 9938/10000 (99.38%)\n",
            "\n"
          ],
          "name": "stdout"
        },
        {
          "output_type": "stream",
          "text": [
            "L2: EPOCH= 18 Loss= 0.0088 Batch_id= 468 Accuracy= 99.08: 100%|██████████| 469/469 [00:14<00:00, 33.26it/s]\n",
            "  0%|          | 0/469 [00:00<?, ?it/s]"
          ],
          "name": "stderr"
        },
        {
          "output_type": "stream",
          "text": [
            "\n",
            "Test set: Average Loss= 0.0179 Batch_id= 78 Accuracy= 9941/10000 (99.41%)\n",
            "\n"
          ],
          "name": "stdout"
        },
        {
          "output_type": "stream",
          "text": [
            "L1&L2: EPOCH= 18 Loss= 0.2012 Batch_id= 468 Accuracy= 99.08: 100%|██████████| 469/469 [00:15<00:00, 29.53it/s]\n",
            "  0%|          | 0/469 [00:00<?, ?it/s]"
          ],
          "name": "stderr"
        },
        {
          "output_type": "stream",
          "text": [
            "\n",
            "Test set: Average Loss= 0.0180 Batch_id= 78 Accuracy= 9941/10000 (99.41%)\n",
            "\n"
          ],
          "name": "stdout"
        },
        {
          "output_type": "stream",
          "text": [
            "GBN: EPOCH= 18 Loss= 0.0470 Batch_id= 468 Accuracy= 98.98: 100%|██████████| 469/469 [00:14<00:00, 32.64it/s]\n",
            "  0%|          | 0/469 [00:00<?, ?it/s]"
          ],
          "name": "stderr"
        },
        {
          "output_type": "stream",
          "text": [
            "\n",
            "Test set: Average Loss= 0.0213 Batch_id= 78 Accuracy= 9940/10000 (99.40%)\n",
            "\n"
          ],
          "name": "stdout"
        },
        {
          "output_type": "stream",
          "text": [
            "GBN&L2: EPOCH= 18 Loss= 0.0308 Batch_id= 468 Accuracy= 98.97: 100%|██████████| 469/469 [00:14<00:00, 31.91it/s]\n",
            "  0%|          | 0/469 [00:00<?, ?it/s]"
          ],
          "name": "stderr"
        },
        {
          "output_type": "stream",
          "text": [
            "\n",
            "Test set: Average Loss= 0.0212 Batch_id= 78 Accuracy= 9938/10000 (99.38%)\n",
            "\n"
          ],
          "name": "stdout"
        },
        {
          "output_type": "stream",
          "text": [
            "GBN&L1&L2: EPOCH= 18 Loss= 0.3957 Batch_id= 468 Accuracy= 98.93: 100%|██████████| 469/469 [00:15<00:00, 29.88it/s]\n",
            "  0%|          | 0/469 [00:00<?, ?it/s]"
          ],
          "name": "stderr"
        },
        {
          "output_type": "stream",
          "text": [
            "\n",
            "Test set: Average Loss= 0.0211 Batch_id= 78 Accuracy= 9941/10000 (99.41%)\n",
            "\n"
          ],
          "name": "stdout"
        },
        {
          "output_type": "stream",
          "text": [
            "L1: EPOCH= 19 Loss= 0.2380 Batch_id= 429 Accuracy= 99.13:  91%|█████████ | 427/469 [00:14<00:01, 31.87it/s]"
          ],
          "name": "stderr"
        },
        {
          "output_type": "stream",
          "text": [
            "Buffered data was truncated after reaching the output size limit."
          ],
          "name": "stdout"
        }
      ]
    },
    {
      "cell_type": "code",
      "metadata": {
        "id": "wZ_KdL3ou3aZ",
        "colab_type": "code",
        "colab": {}
      },
      "source": [
        "# getPlottedGraph(25, l1_train_losses, l1_train_accuracy, l1_test_losses, l1_test_accuracy,\n",
        "#                     l2_train_losses, l2_train_accuracy,l2_test_losses, l2_test_accuracy,\n",
        "#                     l1_l2_train_losses, l1_l2_train_accuracy,l1_l2_test_losses, l1_l2_test_accuracy,\n",
        "#                     gbn_train_losses, gbn_train_accuracy, gbn_test_losses, gbn_test_accuracy,\n",
        "#                     gbn_l1_l2_train_losses, gbn_l1_l2_train_accuracy, gbn_l1_l2_test_losses, gbn_l1_l2_test_accuracy)"
      ],
      "execution_count": null,
      "outputs": []
    },
    {
      "cell_type": "code",
      "metadata": {
        "id": "EwAbMshmDZHd",
        "colab_type": "code",
        "colab": {
          "base_uri": "https://localhost:8080/",
          "height": 420
        },
        "outputId": "25d0691b-e82e-461b-88bf-e7fea33df05d"
      },
      "source": [
        "\n",
        "print(max(l1_train_accuracy))\n",
        "print(max(l1_test_accuracy))\n",
        "print(l1_test_accuracy.index(max(l1_test_accuracy)))\n",
        "print(\"********************************************************************************************************\")\n",
        "print(max(l2_train_accuracy))\n",
        "print(max(l2_test_accuracy))\n",
        "print(l2_test_accuracy.index(max(l2_test_accuracy)))\n",
        "print(\"********************************************************************************************************\")\n",
        "print(max(l1_l2_train_accuracy))\n",
        "print(max(l1_l2_test_accuracy))\n",
        "print(l1_l2_test_accuracy.index(max(l1_l2_test_accuracy)))\n",
        "print(\"********************************************************************************************************\")\n",
        "print(max(gbn_train_accuracy))\n",
        "print(max(gbn_test_accuracy))\n",
        "print(gbn_test_accuracy.index(max(gbn_test_accuracy)))\n",
        "print(\"********************************************************************************************************\")\n",
        "print(max(gbn_l2_train_accuracy))\n",
        "print(max(gbn_l2_test_accuracy))\n",
        "print(gbn_l2_test_accuracy.index(max(gbn_l2_test_accuracy)))\n",
        "print(\"********************************************************************************************************\")\n",
        "print(max(gbn_l1_l2_train_accuracy))\n",
        "print(max(gbn_l1_l2_test_accuracy))\n",
        "print(gbn_l1_l2_test_accuracy.index(max(gbn_l1_l2_test_accuracy)))\n",
        "print(\"********************************************************************************************************\")\n"
      ],
      "execution_count": 3,
      "outputs": [
        {
          "output_type": "stream",
          "text": [
            "99.14166666666667\n",
            "99.44\n",
            "10\n",
            "********************************************************************************************************\n",
            "99.135\n",
            "99.49\n",
            "5\n",
            "********************************************************************************************************\n",
            "99.13166666666666\n",
            "99.45\n",
            "5\n",
            "********************************************************************************************************\n",
            "99.01\n",
            "99.44\n",
            "13\n",
            "********************************************************************************************************\n",
            "99.04833333333333\n",
            "99.44\n",
            "9\n",
            "********************************************************************************************************\n",
            "99.01166666666667\n",
            "99.45\n",
            "10\n",
            "********************************************************************************************************\n"
          ],
          "name": "stdout"
        }
      ]
    },
    {
      "cell_type": "code",
      "metadata": {
        "id": "SmsixEEwXm-1",
        "colab_type": "code",
        "colab": {}
      },
      "source": [
        "# 95.48833333333333\n",
        "# 97.86\n",
        "# 23\n",
        "# ********************************************************************************************************\n",
        "# 96.76833333333333\n",
        "# 98.82\n",
        "# 3\n",
        "# ********************************************************************************************************\n",
        "# 96.21833333333333\n",
        "# 98.13\n",
        "# 19\n",
        "# ********************************************************************************************************\n",
        "# 98.175\n",
        "# 99.3\n",
        "# 11\n",
        "# ********************************************************************************************************\n",
        "# 98.67333333333333\n",
        "# 99.46\n",
        "# 6\n",
        "# ********************************************************************************************************\n",
        "# 97.42666666666666\n",
        "# 98.34\n",
        "# 21"
      ],
      "execution_count": null,
      "outputs": []
    }
  ]
}