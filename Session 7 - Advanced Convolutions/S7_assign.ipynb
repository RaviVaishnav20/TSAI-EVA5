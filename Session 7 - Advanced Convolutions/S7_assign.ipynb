{
  "nbformat": 4,
  "nbformat_minor": 0,
  "metadata": {
    "colab": {
      "name": "S7_assign.ipynb",
      "provenance": []
    },
    "kernelspec": {
      "name": "python3",
      "display_name": "Python 3"
    },
    "accelerator": "GPU"
  },
  "cells": [
    {
      "cell_type": "code",
      "metadata": {
        "id": "YUzaW7HrPyTv",
        "colab_type": "code",
        "colab": {
          "base_uri": "https://localhost:8080/",
          "height": 34
        },
        "outputId": "7ca434c0-8dd7-41d5-b498-312894e867fe"
      },
      "source": [
        "from google.colab import drive\n",
        "\n",
        "drive.mount('/content/drive')\n",
        "root_path = 'drive/My Drive/Lab/'"
      ],
      "execution_count": 19,
      "outputs": [
        {
          "output_type": "stream",
          "text": [
            "Mounted at /content/drive\n"
          ],
          "name": "stdout"
        }
      ]
    },
    {
      "cell_type": "code",
      "metadata": {
        "id": "lWeyfbA0oT30",
        "colab_type": "code",
        "colab": {}
      },
      "source": [
        "from utils import *\n",
        "from image_transform import ImageTransform\n",
        "from loader import Loader\n",
        "from model7 import Net, SeparableConv2d\n",
        "from train import TrainModel\n",
        "from test import TestModel\n",
        "from ghost_batchnormalization import GhostBatchNorm\n",
        "from regularization import Regularization as reg"
      ],
      "execution_count": 1,
      "outputs": []
    },
    {
      "cell_type": "code",
      "metadata": {
        "id": "oVQHuzkaSJJk",
        "colab_type": "code",
        "colab": {
          "base_uri": "https://localhost:8080/",
          "height": 154
        },
        "outputId": "4dc9c272-ca97-403d-ba4d-e459bfb32bcf"
      },
      "source": [
        "IMAGE_PATH = \"/content/drive/My Drive/Lab/images/\"\n",
        "MODEL_PATH = \"/content/drive/My Drive/Lab/models/\"\n",
        "\n",
        "# For Graph\n",
        "train_losses = []\n",
        "train_accuracy = []\n",
        "test_losses = []\n",
        "test_accuracy = []\n",
        "\n",
        "# Hyper parameters\n",
        "LAMBDA1=1e-5\n",
        "LR=0.01\n",
        "MOMENTUM=0.9\n",
        "WEIGHT_DECAY=0.0001\n",
        "EPOCHS = 50\n",
        "\n",
        "# Transforms\n",
        "transform_train = [\n",
        "    transforms.RandomCrop(32, padding=4),\n",
        "    transforms.RandomHorizontalFlip(),\n",
        "    transforms.ToTensor(),\n",
        "    transforms.Normalize((0.4914, 0.4822, 0.4465), (0.2023, 0.1994, 0.2010)),\n",
        "]\n",
        "\n",
        "transform_test = [\n",
        "    transforms.ToTensor(),\n",
        "    transforms.Normalize((0.4914, 0.4822, 0.4465), (0.2023, 0.1994, 0.2010)),\n",
        "]\n",
        "\n",
        "t_transform_train = ImageTransform.transform(transform_train)\n",
        "t_transform_test = ImageTransform.transform(transform_test)\n",
        "\n",
        "# Dataset and DataLoader arguments\n",
        "dataset_name = torchvision.datasets.CIFAR10\n",
        "trainSet_dict = dict(root='./data', train=True, download=True, transform=t_transform_train)\n",
        "trainLoad_dict = dict(batch_size=32, shuffle=True, num_workers=4)\n",
        "testSet_dict = dict(root='./data', train=False, download=True, transform=t_transform_test)\n",
        "testLoad_dict = dict(batch_size=32, shuffle=False, num_workers=4)\n",
        "\n",
        "\n",
        "  \n",
        "# Device\n",
        "SEED = 1\n",
        "cuda = torch.cuda.is_available()\n",
        "print(\"Cuda is available ?\", cuda)\n",
        "torch.manual_seed(SEED)\n",
        "if cuda:\n",
        "    torch.cuda.manual_seed(SEED)\n",
        "device = torch.device(\"cuda\" if cuda else \"cpu\")\n",
        "\n",
        "# Create Train and Test Loader\n",
        "trainloader = Loader.getDataLoader(dataset_name, trainSet_dict, trainLoad_dict)\n",
        "testloader = Loader.getDataLoader(dataset_name, testSet_dict, testLoad_dict)\n",
        "classes = ('plane', 'car', 'bird', 'cat',\n",
        "            'deer', 'dog', 'frog', 'horse', 'ship', 'truck')\n",
        "\n",
        "# Loss Function\n",
        "criterion = nn.NLLLoss()\n",
        "\n",
        "# Optimizer\n",
        "model = Net().to(device)\n",
        "optimizer = optim.SGD(model.parameters(), lr=LR, momentum=MOMENTUM, weight_decay=WEIGHT_DECAY)\n",
        "\n",
        "# Start training\n",
        "for epoch in range(50):\n",
        "  train_loss, train_acc = TrainModel.train(model, device, trainloader, criterion, optimizer, epoch)\n",
        "  train_losses.append(train_loss)\n",
        "  train_accuracy.append(train_acc)\n",
        "  test_loss, test_acc = TestModel.test(model, device, testloader, criterion)\n",
        "  test_losses.append(test_loss)\n",
        "  test_accuracy.append(test_acc)\n",
        "\n",
        "#Plot and Save Graph\n",
        "#getPlottedGraph(15, train_losses, train_accuracy, test_losses, test_accuracy)\n",
        "\n",
        "#Save Models\n",
        "torch.save(model2.state_dict(), MODEL_PATH+\"model7.pth\")\n",
        "\n",
        "\n",
        "\n",
        "\n",
        "\n"
      ],
      "execution_count": 4,
      "outputs": [
        {
          "output_type": "stream",
          "text": [
            "Cuda is available ? True\n",
            "Files already downloaded and verified\n",
            "Files already downloaded and verified\n"
          ],
          "name": "stdout"
        },
        {
          "output_type": "stream",
          "text": [
            "/content/ghost_batchnormalization.py:6: UserWarning: To copy construct from a tensor, it is recommended to use sourceTensor.clone().detach() or sourceTensor.clone().detach().requires_grad_(True), rather than torch.tensor(sourceTensor).\n",
            "  torch.tensor(self.weight.data.fill_(1.0)).cuda()\n",
            "/content/ghost_batchnormalization.py:7: UserWarning: To copy construct from a tensor, it is recommended to use sourceTensor.clone().detach() or sourceTensor.clone().detach().requires_grad_(True), rather than torch.tensor(sourceTensor).\n",
            "  torch.tensor(self.bias.data.fill_(0.0)).cuda()\n"
          ],
          "name": "stderr"
        }
      ]
    },
    {
      "cell_type": "code",
      "metadata": {
        "id": "Q9UBW5eK4EF3",
        "colab_type": "code",
        "colab": {
          "base_uri": "https://localhost:8080/",
          "height": 1000
        },
        "outputId": "05d1aee0-957c-48dc-823b-13134be44856"
      },
      "source": [
        "\n"
      ],
      "execution_count": null,
      "outputs": [
        {
          "output_type": "stream",
          "text": [
            ": EPOCH= 0 Loss= 1.4292 Batch_id= 1562 Accuracy= 44.88: 100%|██████████| 1563/1563 [00:40<00:00, 38.13it/s]\n",
            "  0%|          | 0/1563 [00:00<?, ?it/s]"
          ],
          "name": "stderr"
        },
        {
          "output_type": "stream",
          "text": [
            "\n",
            "Test set: Average Loss= 0.0345 Batch_id= 312 Accuracy= 6045/10000 (60.45%)\n",
            "\n"
          ],
          "name": "stdout"
        },
        {
          "output_type": "stream",
          "text": [
            ": EPOCH= 1 Loss= 1.3967 Batch_id= 1562 Accuracy= 61.51: 100%|██████████| 1563/1563 [00:41<00:00, 37.91it/s]\n",
            "  0%|          | 0/1563 [00:00<?, ?it/s]"
          ],
          "name": "stderr"
        },
        {
          "output_type": "stream",
          "text": [
            "\n",
            "Test set: Average Loss= 0.0311 Batch_id= 312 Accuracy= 6587/10000 (65.87%)\n",
            "\n"
          ],
          "name": "stdout"
        },
        {
          "output_type": "stream",
          "text": [
            ": EPOCH= 2 Loss= 0.8712 Batch_id= 1562 Accuracy= 68.40: 100%|██████████| 1563/1563 [00:41<00:00, 37.43it/s]\n",
            "  0%|          | 0/1563 [00:00<?, ?it/s]"
          ],
          "name": "stderr"
        },
        {
          "output_type": "stream",
          "text": [
            "\n",
            "Test set: Average Loss= 0.0247 Batch_id= 312 Accuracy= 7301/10000 (73.01%)\n",
            "\n"
          ],
          "name": "stdout"
        },
        {
          "output_type": "stream",
          "text": [
            ": EPOCH= 3 Loss= 0.7681 Batch_id= 1562 Accuracy= 71.94: 100%|██████████| 1563/1563 [00:42<00:00, 36.61it/s]\n",
            "  0%|          | 0/1563 [00:00<?, ?it/s]"
          ],
          "name": "stderr"
        },
        {
          "output_type": "stream",
          "text": [
            "\n",
            "Test set: Average Loss= 0.0238 Batch_id= 312 Accuracy= 7447/10000 (74.47%)\n",
            "\n"
          ],
          "name": "stdout"
        },
        {
          "output_type": "stream",
          "text": [
            ": EPOCH= 4 Loss= 0.5191 Batch_id= 1562 Accuracy= 73.97: 100%|██████████| 1563/1563 [00:42<00:00, 37.10it/s]\n",
            "  0%|          | 0/1563 [00:00<?, ?it/s]"
          ],
          "name": "stderr"
        },
        {
          "output_type": "stream",
          "text": [
            "\n",
            "Test set: Average Loss= 0.0202 Batch_id= 312 Accuracy= 7783/10000 (77.83%)\n",
            "\n"
          ],
          "name": "stdout"
        },
        {
          "output_type": "stream",
          "text": [
            ": EPOCH= 5 Loss= 0.7188 Batch_id= 1562 Accuracy= 75.79: 100%|██████████| 1563/1563 [00:42<00:00, 36.51it/s]\n",
            "  0%|          | 0/1563 [00:00<?, ?it/s]"
          ],
          "name": "stderr"
        },
        {
          "output_type": "stream",
          "text": [
            "\n",
            "Test set: Average Loss= 0.0193 Batch_id= 312 Accuracy= 7847/10000 (78.47%)\n",
            "\n"
          ],
          "name": "stdout"
        },
        {
          "output_type": "stream",
          "text": [
            ": EPOCH= 6 Loss= 1.3202 Batch_id= 1562 Accuracy= 76.78: 100%|██████████| 1563/1563 [00:42<00:00, 37.10it/s]\n",
            "  0%|          | 0/1563 [00:00<?, ?it/s]"
          ],
          "name": "stderr"
        },
        {
          "output_type": "stream",
          "text": [
            "\n",
            "Test set: Average Loss= 0.0183 Batch_id= 312 Accuracy= 8019/10000 (80.19%)\n",
            "\n"
          ],
          "name": "stdout"
        },
        {
          "output_type": "stream",
          "text": [
            ": EPOCH= 7 Loss= 0.5276 Batch_id= 1562 Accuracy= 78.08: 100%|██████████| 1563/1563 [00:42<00:00, 36.91it/s]\n",
            "  0%|          | 0/1563 [00:00<?, ?it/s]"
          ],
          "name": "stderr"
        },
        {
          "output_type": "stream",
          "text": [
            "\n",
            "Test set: Average Loss= 0.0181 Batch_id= 312 Accuracy= 8000/10000 (80.00%)\n",
            "\n"
          ],
          "name": "stdout"
        },
        {
          "output_type": "stream",
          "text": [
            ": EPOCH= 8 Loss= 0.7957 Batch_id= 1562 Accuracy= 78.75: 100%|██████████| 1563/1563 [00:42<00:00, 37.08it/s]\n",
            "  0%|          | 0/1563 [00:00<?, ?it/s]"
          ],
          "name": "stderr"
        },
        {
          "output_type": "stream",
          "text": [
            "\n",
            "Test set: Average Loss= 0.0164 Batch_id= 312 Accuracy= 8165/10000 (81.65%)\n",
            "\n"
          ],
          "name": "stdout"
        },
        {
          "output_type": "stream",
          "text": [
            ": EPOCH= 9 Loss= 0.9889 Batch_id= 1562 Accuracy= 79.57: 100%|██████████| 1563/1563 [00:42<00:00, 37.20it/s]\n",
            "  0%|          | 0/1563 [00:00<?, ?it/s]"
          ],
          "name": "stderr"
        },
        {
          "output_type": "stream",
          "text": [
            "\n",
            "Test set: Average Loss= 0.0169 Batch_id= 312 Accuracy= 8154/10000 (81.54%)\n",
            "\n"
          ],
          "name": "stdout"
        },
        {
          "output_type": "stream",
          "text": [
            ": EPOCH= 10 Loss= 0.9336 Batch_id= 1562 Accuracy= 80.20: 100%|██████████| 1563/1563 [00:42<00:00, 37.17it/s]\n",
            "  0%|          | 0/1563 [00:00<?, ?it/s]"
          ],
          "name": "stderr"
        },
        {
          "output_type": "stream",
          "text": [
            "\n",
            "Test set: Average Loss= 0.0166 Batch_id= 312 Accuracy= 8209/10000 (82.09%)\n",
            "\n"
          ],
          "name": "stdout"
        },
        {
          "output_type": "stream",
          "text": [
            ": EPOCH= 11 Loss= 0.6532 Batch_id= 1562 Accuracy= 80.70: 100%|██████████| 1563/1563 [00:42<00:00, 36.78it/s]\n",
            "  0%|          | 0/1563 [00:00<?, ?it/s]"
          ],
          "name": "stderr"
        },
        {
          "output_type": "stream",
          "text": [
            "\n",
            "Test set: Average Loss= 0.0179 Batch_id= 312 Accuracy= 8115/10000 (81.15%)\n",
            "\n"
          ],
          "name": "stdout"
        },
        {
          "output_type": "stream",
          "text": [
            ": EPOCH= 12 Loss= 0.5759 Batch_id= 1562 Accuracy= 81.35: 100%|██████████| 1563/1563 [00:42<00:00, 37.08it/s]\n",
            "  0%|          | 0/1563 [00:00<?, ?it/s]"
          ],
          "name": "stderr"
        },
        {
          "output_type": "stream",
          "text": [
            "\n",
            "Test set: Average Loss= 0.0157 Batch_id= 312 Accuracy= 8315/10000 (83.15%)\n",
            "\n"
          ],
          "name": "stdout"
        },
        {
          "output_type": "stream",
          "text": [
            ": EPOCH= 13 Loss= 0.4397 Batch_id= 1562 Accuracy= 81.41: 100%|██████████| 1563/1563 [00:41<00:00, 37.44it/s]\n",
            "  0%|          | 0/1563 [00:00<?, ?it/s]"
          ],
          "name": "stderr"
        },
        {
          "output_type": "stream",
          "text": [
            "\n",
            "Test set: Average Loss= 0.0163 Batch_id= 312 Accuracy= 8250/10000 (82.50%)\n",
            "\n"
          ],
          "name": "stdout"
        },
        {
          "output_type": "stream",
          "text": [
            ": EPOCH= 14 Loss= 0.6271 Batch_id= 1562 Accuracy= 82.19: 100%|██████████| 1563/1563 [00:41<00:00, 37.27it/s]\n",
            "  0%|          | 0/1563 [00:00<?, ?it/s]"
          ],
          "name": "stderr"
        },
        {
          "output_type": "stream",
          "text": [
            "\n",
            "Test set: Average Loss= 0.0156 Batch_id= 312 Accuracy= 8291/10000 (82.91%)\n",
            "\n"
          ],
          "name": "stdout"
        },
        {
          "output_type": "stream",
          "text": [
            ": EPOCH= 15 Loss= 0.2004 Batch_id= 1562 Accuracy= 82.52: 100%|██████████| 1563/1563 [00:41<00:00, 37.44it/s]\n",
            "  0%|          | 0/1563 [00:00<?, ?it/s]"
          ],
          "name": "stderr"
        },
        {
          "output_type": "stream",
          "text": [
            "\n",
            "Test set: Average Loss= 0.0148 Batch_id= 312 Accuracy= 8428/10000 (84.28%)\n",
            "\n"
          ],
          "name": "stdout"
        },
        {
          "output_type": "stream",
          "text": [
            ": EPOCH= 16 Loss= 0.5353 Batch_id= 1562 Accuracy= 82.83: 100%|██████████| 1563/1563 [00:41<00:00, 37.45it/s]\n",
            "  0%|          | 0/1563 [00:00<?, ?it/s]"
          ],
          "name": "stderr"
        },
        {
          "output_type": "stream",
          "text": [
            "\n",
            "Test set: Average Loss= 0.0170 Batch_id= 312 Accuracy= 8201/10000 (82.01%)\n",
            "\n"
          ],
          "name": "stdout"
        },
        {
          "output_type": "stream",
          "text": [
            ": EPOCH= 17 Loss= 0.4419 Batch_id= 1562 Accuracy= 83.24: 100%|██████████| 1563/1563 [00:42<00:00, 37.02it/s]\n",
            "  0%|          | 0/1563 [00:00<?, ?it/s]"
          ],
          "name": "stderr"
        },
        {
          "output_type": "stream",
          "text": [
            "\n",
            "Test set: Average Loss= 0.0150 Batch_id= 312 Accuracy= 8396/10000 (83.96%)\n",
            "\n"
          ],
          "name": "stdout"
        },
        {
          "output_type": "stream",
          "text": [
            ": EPOCH= 18 Loss= 0.2805 Batch_id= 1562 Accuracy= 83.60: 100%|██████████| 1563/1563 [00:42<00:00, 36.89it/s]\n",
            "  0%|          | 0/1563 [00:00<?, ?it/s]"
          ],
          "name": "stderr"
        },
        {
          "output_type": "stream",
          "text": [
            "\n",
            "Test set: Average Loss= 0.0150 Batch_id= 312 Accuracy= 8399/10000 (83.99%)\n",
            "\n"
          ],
          "name": "stdout"
        },
        {
          "output_type": "stream",
          "text": [
            ": EPOCH= 19 Loss= 0.7083 Batch_id= 1562 Accuracy= 83.78: 100%|██████████| 1563/1563 [00:41<00:00, 37.35it/s]\n",
            "  0%|          | 0/1563 [00:00<?, ?it/s]"
          ],
          "name": "stderr"
        },
        {
          "output_type": "stream",
          "text": [
            "\n",
            "Test set: Average Loss= 0.0144 Batch_id= 312 Accuracy= 8467/10000 (84.67%)\n",
            "\n"
          ],
          "name": "stdout"
        },
        {
          "output_type": "stream",
          "text": [
            ": EPOCH= 20 Loss= 0.3937 Batch_id= 1562 Accuracy= 84.30: 100%|██████████| 1563/1563 [00:41<00:00, 37.52it/s]\n",
            "  0%|          | 0/1563 [00:00<?, ?it/s]"
          ],
          "name": "stderr"
        },
        {
          "output_type": "stream",
          "text": [
            "\n",
            "Test set: Average Loss= 0.0152 Batch_id= 312 Accuracy= 8440/10000 (84.40%)\n",
            "\n"
          ],
          "name": "stdout"
        },
        {
          "output_type": "stream",
          "text": [
            ": EPOCH= 21 Loss= 0.4013 Batch_id= 1562 Accuracy= 84.61: 100%|██████████| 1563/1563 [00:41<00:00, 37.83it/s]\n",
            "  0%|          | 0/1563 [00:00<?, ?it/s]"
          ],
          "name": "stderr"
        },
        {
          "output_type": "stream",
          "text": [
            "\n",
            "Test set: Average Loss= 0.0148 Batch_id= 312 Accuracy= 8415/10000 (84.15%)\n",
            "\n"
          ],
          "name": "stdout"
        },
        {
          "output_type": "stream",
          "text": [
            ": EPOCH= 22 Loss= 0.8013 Batch_id= 1562 Accuracy= 84.59: 100%|██████████| 1563/1563 [00:41<00:00, 37.61it/s]\n",
            "  0%|          | 0/1563 [00:00<?, ?it/s]"
          ],
          "name": "stderr"
        },
        {
          "output_type": "stream",
          "text": [
            "\n",
            "Test set: Average Loss= 0.0142 Batch_id= 312 Accuracy= 8481/10000 (84.81%)\n",
            "\n"
          ],
          "name": "stdout"
        },
        {
          "output_type": "stream",
          "text": [
            ": EPOCH= 23 Loss= 0.2474 Batch_id= 1562 Accuracy= 84.99: 100%|██████████| 1563/1563 [00:41<00:00, 37.71it/s]\n",
            "  0%|          | 0/1563 [00:00<?, ?it/s]"
          ],
          "name": "stderr"
        },
        {
          "output_type": "stream",
          "text": [
            "\n",
            "Test set: Average Loss= 0.0134 Batch_id= 312 Accuracy= 8559/10000 (85.59%)\n",
            "\n"
          ],
          "name": "stdout"
        },
        {
          "output_type": "stream",
          "text": [
            ": EPOCH= 24 Loss= 0.3479 Batch_id= 1562 Accuracy= 85.08: 100%|██████████| 1563/1563 [00:41<00:00, 37.49it/s]\n",
            "  0%|          | 0/1563 [00:00<?, ?it/s]"
          ],
          "name": "stderr"
        },
        {
          "output_type": "stream",
          "text": [
            "\n",
            "Test set: Average Loss= 0.0137 Batch_id= 312 Accuracy= 8582/10000 (85.82%)\n",
            "\n"
          ],
          "name": "stdout"
        },
        {
          "output_type": "stream",
          "text": [
            ": EPOCH= 25 Loss= 0.4824 Batch_id= 1562 Accuracy= 85.42: 100%|██████████| 1563/1563 [00:41<00:00, 37.25it/s]\n",
            "  0%|          | 0/1563 [00:00<?, ?it/s]"
          ],
          "name": "stderr"
        },
        {
          "output_type": "stream",
          "text": [
            "\n",
            "Test set: Average Loss= 0.0156 Batch_id= 312 Accuracy= 8367/10000 (83.67%)\n",
            "\n"
          ],
          "name": "stdout"
        },
        {
          "output_type": "stream",
          "text": [
            ": EPOCH= 26 Loss= 0.3058 Batch_id= 1562 Accuracy= 85.24: 100%|██████████| 1563/1563 [00:41<00:00, 37.47it/s]\n",
            "  0%|          | 0/1563 [00:00<?, ?it/s]"
          ],
          "name": "stderr"
        },
        {
          "output_type": "stream",
          "text": [
            "\n",
            "Test set: Average Loss= 0.0136 Batch_id= 312 Accuracy= 8569/10000 (85.69%)\n",
            "\n"
          ],
          "name": "stdout"
        },
        {
          "output_type": "stream",
          "text": [
            ": EPOCH= 27 Loss= 0.6762 Batch_id= 1562 Accuracy= 85.70: 100%|██████████| 1563/1563 [00:41<00:00, 37.94it/s]\n",
            "  0%|          | 0/1563 [00:00<?, ?it/s]"
          ],
          "name": "stderr"
        },
        {
          "output_type": "stream",
          "text": [
            "\n",
            "Test set: Average Loss= 0.0131 Batch_id= 312 Accuracy= 8574/10000 (85.74%)\n",
            "\n"
          ],
          "name": "stdout"
        },
        {
          "output_type": "stream",
          "text": [
            ": EPOCH= 28 Loss= 0.4993 Batch_id= 1562 Accuracy= 86.00: 100%|██████████| 1563/1563 [00:41<00:00, 37.74it/s]\n",
            "  0%|          | 0/1563 [00:00<?, ?it/s]"
          ],
          "name": "stderr"
        },
        {
          "output_type": "stream",
          "text": [
            "\n",
            "Test set: Average Loss= 0.0134 Batch_id= 312 Accuracy= 8596/10000 (85.96%)\n",
            "\n"
          ],
          "name": "stdout"
        },
        {
          "output_type": "stream",
          "text": [
            ": EPOCH= 29 Loss= 0.1391 Batch_id= 1562 Accuracy= 86.11: 100%|██████████| 1563/1563 [00:41<00:00, 37.65it/s]\n",
            "  0%|          | 0/1563 [00:00<?, ?it/s]"
          ],
          "name": "stderr"
        },
        {
          "output_type": "stream",
          "text": [
            "\n",
            "Test set: Average Loss= 0.0138 Batch_id= 312 Accuracy= 8535/10000 (85.35%)\n",
            "\n"
          ],
          "name": "stdout"
        },
        {
          "output_type": "stream",
          "text": [
            ": EPOCH= 30 Loss= 0.5807 Batch_id= 1562 Accuracy= 86.47: 100%|██████████| 1563/1563 [00:41<00:00, 37.82it/s]\n",
            "  0%|          | 0/1563 [00:00<?, ?it/s]"
          ],
          "name": "stderr"
        },
        {
          "output_type": "stream",
          "text": [
            "\n",
            "Test set: Average Loss= 0.0141 Batch_id= 312 Accuracy= 8482/10000 (84.82%)\n",
            "\n"
          ],
          "name": "stdout"
        },
        {
          "output_type": "stream",
          "text": [
            ": EPOCH= 31 Loss= 1.2638 Batch_id= 1562 Accuracy= 86.18: 100%|██████████| 1563/1563 [00:41<00:00, 37.60it/s]\n",
            "  0%|          | 0/1563 [00:00<?, ?it/s]"
          ],
          "name": "stderr"
        },
        {
          "output_type": "stream",
          "text": [
            "\n",
            "Test set: Average Loss= 0.0134 Batch_id= 312 Accuracy= 8585/10000 (85.85%)\n",
            "\n"
          ],
          "name": "stdout"
        },
        {
          "output_type": "stream",
          "text": [
            ": EPOCH= 32 Loss= 0.3940 Batch_id= 1562 Accuracy= 86.61: 100%|██████████| 1563/1563 [00:42<00:00, 37.21it/s]\n",
            "  0%|          | 0/1563 [00:00<?, ?it/s]"
          ],
          "name": "stderr"
        },
        {
          "output_type": "stream",
          "text": [
            "\n",
            "Test set: Average Loss= 0.0164 Batch_id= 312 Accuracy= 8352/10000 (83.52%)\n",
            "\n"
          ],
          "name": "stdout"
        },
        {
          "output_type": "stream",
          "text": [
            ": EPOCH= 33 Loss= 0.2353 Batch_id= 1562 Accuracy= 86.50: 100%|██████████| 1563/1563 [00:41<00:00, 37.56it/s]\n",
            "  0%|          | 0/1563 [00:00<?, ?it/s]"
          ],
          "name": "stderr"
        },
        {
          "output_type": "stream",
          "text": [
            "\n",
            "Test set: Average Loss= 0.0142 Batch_id= 312 Accuracy= 8468/10000 (84.68%)\n",
            "\n"
          ],
          "name": "stdout"
        },
        {
          "output_type": "stream",
          "text": [
            ": EPOCH= 34 Loss= 0.6358 Batch_id= 1562 Accuracy= 86.66: 100%|██████████| 1563/1563 [00:42<00:00, 37.07it/s]\n",
            "  0%|          | 0/1563 [00:00<?, ?it/s]"
          ],
          "name": "stderr"
        },
        {
          "output_type": "stream",
          "text": [
            "\n",
            "Test set: Average Loss= 0.0128 Batch_id= 312 Accuracy= 8634/10000 (86.34%)\n",
            "\n"
          ],
          "name": "stdout"
        },
        {
          "output_type": "stream",
          "text": [
            ": EPOCH= 35 Loss= 0.3920 Batch_id= 1562 Accuracy= 87.05: 100%|██████████| 1563/1563 [00:42<00:00, 37.12it/s]\n",
            "  0%|          | 0/1563 [00:00<?, ?it/s]"
          ],
          "name": "stderr"
        },
        {
          "output_type": "stream",
          "text": [
            "\n",
            "Test set: Average Loss= 0.0134 Batch_id= 312 Accuracy= 8601/10000 (86.01%)\n",
            "\n"
          ],
          "name": "stdout"
        },
        {
          "output_type": "stream",
          "text": [
            ": EPOCH= 36 Loss= 0.6916 Batch_id= 1562 Accuracy= 86.94: 100%|██████████| 1563/1563 [00:41<00:00, 37.46it/s]\n",
            "  0%|          | 0/1563 [00:00<?, ?it/s]"
          ],
          "name": "stderr"
        },
        {
          "output_type": "stream",
          "text": [
            "\n",
            "Test set: Average Loss= 0.0125 Batch_id= 312 Accuracy= 8713/10000 (87.13%)\n",
            "\n"
          ],
          "name": "stdout"
        },
        {
          "output_type": "stream",
          "text": [
            ": EPOCH= 37 Loss= 1.1411 Batch_id= 1562 Accuracy= 87.19: 100%|██████████| 1563/1563 [00:41<00:00, 37.48it/s]\n",
            "  0%|          | 0/1563 [00:00<?, ?it/s]"
          ],
          "name": "stderr"
        },
        {
          "output_type": "stream",
          "text": [
            "\n",
            "Test set: Average Loss= 0.0124 Batch_id= 312 Accuracy= 8643/10000 (86.43%)\n",
            "\n"
          ],
          "name": "stdout"
        },
        {
          "output_type": "stream",
          "text": [
            ": EPOCH= 38 Loss= 0.6110 Batch_id= 1562 Accuracy= 87.31: 100%|██████████| 1563/1563 [00:41<00:00, 37.42it/s]\n",
            "  0%|          | 0/1563 [00:00<?, ?it/s]"
          ],
          "name": "stderr"
        },
        {
          "output_type": "stream",
          "text": [
            "\n",
            "Test set: Average Loss= 0.0132 Batch_id= 312 Accuracy= 8603/10000 (86.03%)\n",
            "\n"
          ],
          "name": "stdout"
        },
        {
          "output_type": "stream",
          "text": [
            ": EPOCH= 39 Loss= 1.1360 Batch_id= 1562 Accuracy= 87.27: 100%|██████████| 1563/1563 [00:42<00:00, 37.14it/s]\n",
            "  0%|          | 0/1563 [00:00<?, ?it/s]"
          ],
          "name": "stderr"
        },
        {
          "output_type": "stream",
          "text": [
            "\n",
            "Test set: Average Loss= 0.0122 Batch_id= 312 Accuracy= 8708/10000 (87.08%)\n",
            "\n"
          ],
          "name": "stdout"
        },
        {
          "output_type": "stream",
          "text": [
            ": EPOCH= 40 Loss= 0.1366 Batch_id= 1562 Accuracy= 87.63: 100%|██████████| 1563/1563 [00:41<00:00, 37.35it/s]\n",
            "  0%|          | 0/1563 [00:00<?, ?it/s]"
          ],
          "name": "stderr"
        },
        {
          "output_type": "stream",
          "text": [
            "\n",
            "Test set: Average Loss= 0.0118 Batch_id= 312 Accuracy= 8741/10000 (87.41%)\n",
            "\n"
          ],
          "name": "stdout"
        },
        {
          "output_type": "stream",
          "text": [
            ": EPOCH= 41 Loss= 0.1069 Batch_id= 1562 Accuracy= 87.49: 100%|██████████| 1563/1563 [00:41<00:00, 37.52it/s]\n",
            "  0%|          | 0/1563 [00:00<?, ?it/s]"
          ],
          "name": "stderr"
        },
        {
          "output_type": "stream",
          "text": [
            "\n",
            "Test set: Average Loss= 0.0134 Batch_id= 312 Accuracy= 8642/10000 (86.42%)\n",
            "\n"
          ],
          "name": "stdout"
        },
        {
          "output_type": "stream",
          "text": [
            ": EPOCH= 42 Loss= 0.2577 Batch_id= 1562 Accuracy= 87.51: 100%|██████████| 1563/1563 [00:41<00:00, 37.65it/s]\n",
            "  0%|          | 0/1563 [00:00<?, ?it/s]"
          ],
          "name": "stderr"
        },
        {
          "output_type": "stream",
          "text": [
            "\n",
            "Test set: Average Loss= 0.0137 Batch_id= 312 Accuracy= 8601/10000 (86.01%)\n",
            "\n"
          ],
          "name": "stdout"
        },
        {
          "output_type": "stream",
          "text": [
            ": EPOCH= 43 Loss= 0.4349 Batch_id= 1562 Accuracy= 87.83: 100%|██████████| 1563/1563 [00:41<00:00, 37.39it/s]\n",
            "  0%|          | 0/1563 [00:00<?, ?it/s]"
          ],
          "name": "stderr"
        },
        {
          "output_type": "stream",
          "text": [
            "\n",
            "Test set: Average Loss= 0.0133 Batch_id= 312 Accuracy= 8653/10000 (86.53%)\n",
            "\n"
          ],
          "name": "stdout"
        },
        {
          "output_type": "stream",
          "text": [
            ": EPOCH= 44 Loss= 0.2003 Batch_id= 1562 Accuracy= 87.89: 100%|██████████| 1563/1563 [00:41<00:00, 37.23it/s]\n",
            "  0%|          | 0/1563 [00:00<?, ?it/s]"
          ],
          "name": "stderr"
        },
        {
          "output_type": "stream",
          "text": [
            "\n",
            "Test set: Average Loss= 0.0122 Batch_id= 312 Accuracy= 8730/10000 (87.30%)\n",
            "\n"
          ],
          "name": "stdout"
        },
        {
          "output_type": "stream",
          "text": [
            ": EPOCH= 45 Loss= 0.3359 Batch_id= 1562 Accuracy= 88.11: 100%|██████████| 1563/1563 [00:41<00:00, 37.34it/s]\n",
            "  0%|          | 0/1563 [00:00<?, ?it/s]"
          ],
          "name": "stderr"
        },
        {
          "output_type": "stream",
          "text": [
            "\n",
            "Test set: Average Loss= 0.0123 Batch_id= 312 Accuracy= 8702/10000 (87.02%)\n",
            "\n"
          ],
          "name": "stdout"
        },
        {
          "output_type": "stream",
          "text": [
            ": EPOCH= 46 Loss= 0.6883 Batch_id= 1562 Accuracy= 87.88: 100%|██████████| 1563/1563 [00:42<00:00, 36.95it/s]\n",
            "  0%|          | 0/1563 [00:00<?, ?it/s]"
          ],
          "name": "stderr"
        },
        {
          "output_type": "stream",
          "text": [
            "\n",
            "Test set: Average Loss= 0.0123 Batch_id= 312 Accuracy= 8678/10000 (86.78%)\n",
            "\n"
          ],
          "name": "stdout"
        },
        {
          "output_type": "stream",
          "text": [
            ": EPOCH= 47 Loss= 0.3735 Batch_id= 1562 Accuracy= 88.15: 100%|██████████| 1563/1563 [00:41<00:00, 37.32it/s]\n",
            "  0%|          | 0/1563 [00:00<?, ?it/s]"
          ],
          "name": "stderr"
        },
        {
          "output_type": "stream",
          "text": [
            "\n",
            "Test set: Average Loss= 0.0118 Batch_id= 312 Accuracy= 8746/10000 (87.46%)\n",
            "\n"
          ],
          "name": "stdout"
        },
        {
          "output_type": "stream",
          "text": [
            ": EPOCH= 48 Loss= 0.3581 Batch_id= 1562 Accuracy= 88.05: 100%|██████████| 1563/1563 [00:42<00:00, 36.84it/s]\n",
            "  0%|          | 0/1563 [00:00<?, ?it/s]"
          ],
          "name": "stderr"
        },
        {
          "output_type": "stream",
          "text": [
            "\n",
            "Test set: Average Loss= 0.0130 Batch_id= 312 Accuracy= 8646/10000 (86.46%)\n",
            "\n"
          ],
          "name": "stdout"
        },
        {
          "output_type": "stream",
          "text": [
            ": EPOCH= 49 Loss= 0.3509 Batch_id= 1562 Accuracy= 88.11: 100%|██████████| 1563/1563 [00:42<00:00, 36.80it/s]\n"
          ],
          "name": "stderr"
        },
        {
          "output_type": "stream",
          "text": [
            "\n",
            "Test set: Average Loss= 0.0132 Batch_id= 312 Accuracy= 8607/10000 (86.07%)\n",
            "\n"
          ],
          "name": "stdout"
        }
      ]
    },
    {
      "cell_type": "code",
      "metadata": {
        "id": "oxBtsHKknrNX",
        "colab_type": "code",
        "colab": {
          "base_uri": "https://localhost:8080/",
          "height": 1000
        },
        "outputId": "1f156376-da85-4f7a-e1cc-5f8f7fa4648a"
      },
      "source": [
        "summary(model, input_size=(3, 32, 32))"
      ],
      "execution_count": 5,
      "outputs": [
        {
          "output_type": "stream",
          "text": [
            "----------------------------------------------------------------\n",
            "        Layer (type)               Output Shape         Param #\n",
            "================================================================\n",
            "            Conv2d-1           [-1, 64, 32, 32]           1,728\n",
            "              ReLU-2           [-1, 64, 32, 32]               0\n",
            "    GhostBatchNorm-3           [-1, 64, 32, 32]             128\n",
            "           Dropout-4           [-1, 64, 32, 32]               0\n",
            "            Conv2d-5           [-1, 32, 32, 32]           2,048\n",
            "              ReLU-6           [-1, 32, 32, 32]               0\n",
            "    GhostBatchNorm-7           [-1, 32, 32, 32]              64\n",
            "           Dropout-8           [-1, 32, 32, 32]               0\n",
            "            Conv2d-9           [-1, 64, 32, 32]          18,432\n",
            "             ReLU-10           [-1, 64, 32, 32]               0\n",
            "   GhostBatchNorm-11           [-1, 64, 32, 32]             128\n",
            "          Dropout-12           [-1, 64, 32, 32]               0\n",
            "           Conv2d-13          [-1, 128, 32, 32]          73,728\n",
            "             ReLU-14          [-1, 128, 32, 32]               0\n",
            "   GhostBatchNorm-15          [-1, 128, 32, 32]             256\n",
            "          Dropout-16          [-1, 128, 32, 32]               0\n",
            "           Conv2d-17           [-1, 32, 32, 32]           4,096\n",
            "             ReLU-18           [-1, 32, 32, 32]               0\n",
            "   GhostBatchNorm-19           [-1, 32, 32, 32]              64\n",
            "          Dropout-20           [-1, 32, 32, 32]               0\n",
            "        MaxPool2d-21           [-1, 32, 16, 16]               0\n",
            "           Conv2d-22           [-1, 64, 16, 16]          18,432\n",
            "             ReLU-23           [-1, 64, 16, 16]               0\n",
            "   GhostBatchNorm-24           [-1, 64, 16, 16]             128\n",
            "          Dropout-25           [-1, 64, 16, 16]               0\n",
            "           Conv2d-26           [-1, 64, 18, 18]              64\n",
            "           Conv2d-27          [-1, 128, 18, 18]           8,192\n",
            "  SeparableConv2d-28          [-1, 128, 18, 18]               0\n",
            "           Conv2d-29           [-1, 64, 18, 18]           8,192\n",
            "             ReLU-30           [-1, 64, 18, 18]               0\n",
            "   GhostBatchNorm-31           [-1, 64, 18, 18]             128\n",
            "          Dropout-32           [-1, 64, 18, 18]               0\n",
            "        MaxPool2d-33             [-1, 64, 9, 9]               0\n",
            "           Conv2d-34            [-1, 128, 9, 9]          73,728\n",
            "             ReLU-35            [-1, 128, 9, 9]               0\n",
            "   GhostBatchNorm-36            [-1, 128, 9, 9]             256\n",
            "          Dropout-37            [-1, 128, 9, 9]               0\n",
            "           Conv2d-38            [-1, 128, 9, 9]         147,456\n",
            "             ReLU-39            [-1, 128, 9, 9]               0\n",
            "   GhostBatchNorm-40            [-1, 128, 9, 9]             256\n",
            "          Dropout-41            [-1, 128, 9, 9]               0\n",
            "           Conv2d-42             [-1, 64, 9, 9]           8,192\n",
            "             ReLU-43             [-1, 64, 9, 9]               0\n",
            "   GhostBatchNorm-44             [-1, 64, 9, 9]             128\n",
            "          Dropout-45             [-1, 64, 9, 9]               0\n",
            "        MaxPool2d-46             [-1, 64, 4, 4]               0\n",
            "           Conv2d-47            [-1, 128, 4, 4]          73,728\n",
            "             ReLU-48            [-1, 128, 4, 4]               0\n",
            "   GhostBatchNorm-49            [-1, 128, 4, 4]             256\n",
            "          Dropout-50            [-1, 128, 4, 4]               0\n",
            "           Conv2d-51            [-1, 256, 4, 4]         294,912\n",
            "             ReLU-52            [-1, 256, 4, 4]               0\n",
            "   GhostBatchNorm-53            [-1, 256, 4, 4]             512\n",
            "          Dropout-54            [-1, 256, 4, 4]               0\n",
            "        AvgPool2d-55            [-1, 256, 1, 1]               0\n",
            "           Conv2d-56             [-1, 64, 1, 1]          16,384\n",
            "           Conv2d-57             [-1, 32, 1, 1]           2,048\n",
            "           Conv2d-58             [-1, 10, 1, 1]             320\n",
            "================================================================\n",
            "Total params: 753,984\n",
            "Trainable params: 751,680\n",
            "Non-trainable params: 2,304\n",
            "----------------------------------------------------------------\n",
            "Input size (MB): 0.01\n",
            "Forward/backward pass size (MB): 13.01\n",
            "Params size (MB): 2.88\n",
            "Estimated Total Size (MB): 15.90\n",
            "----------------------------------------------------------------\n"
          ],
          "name": "stdout"
        }
      ]
    },
    {
      "cell_type": "code",
      "metadata": {
        "id": "-4yVWftM6Yju",
        "colab_type": "code",
        "colab": {}
      },
      "source": [
        ""
      ],
      "execution_count": null,
      "outputs": []
    },
    {
      "cell_type": "code",
      "metadata": {
        "id": "3joBRlm-9Xq_",
        "colab_type": "code",
        "colab": {
          "base_uri": "https://localhost:8080/",
          "height": 721
        },
        "outputId": "aad64a04-4e08-46b3-ffe8-d10f82c0c8e5"
      },
      "source": [
        "getPlottedGraph(EPOCHS, train_losses, train_accuracy, test_losses, test_accuracy,name=\"cifar_10_plot\", PATH=IMAGE_PATH)"
      ],
      "execution_count": 21,
      "outputs": [
        {
          "output_type": "display_data",
          "data": {
            "image/png": "[encoded data removed]",
            "text/plain": [
              "<Figure size 1800x1080 with 4 Axes>"
            ]
          },
          "metadata": {
            "tags": [],
            "needs_background": "light"
          }
        }
      ]
    },
    {
      "cell_type": "code",
      "metadata": {
        "id": "LqtrpoG-_XB9",
        "colab_type": "code",
        "colab": {}
      },
      "source": [
        "torch.save(model.state_dict(), MODEL_PATH+\"model_cifar_10.pth\")"
      ],
      "execution_count": 22,
      "outputs": []
    },
    {
      "cell_type": "code",
      "metadata": {
        "id": "SZY9Btjz_YVv",
        "colab_type": "code",
        "colab": {}
      },
      "source": [
        ""
      ],
      "execution_count": null,
      "outputs": []
    }
  ]
}