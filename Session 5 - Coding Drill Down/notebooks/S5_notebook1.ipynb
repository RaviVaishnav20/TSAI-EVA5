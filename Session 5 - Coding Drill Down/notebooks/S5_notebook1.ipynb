{
  "nbformat": 4,
  "nbformat_minor": 0,
  "metadata": {
    "accelerator": "GPU",
    "colab": {
      "name": "S5_notebook1.ipynb",
      "provenance": [],
      "collapsed_sections": []
    },
    "kernelspec": {
      "display_name": "Python 3",
      "language": "python",
      "name": "python3"
    },
    "language_info": {
      "codemirror_mode": {
        "name": "ipython",
        "version": 3
      },
      "file_extension": ".py",
      "mimetype": "text/x-python",
      "name": "python",
      "nbconvert_exporter": "python",
      "pygments_lexer": "ipython3",
      "version": "3.7.6"
    }
  },
  "cells": [
    {
      "cell_type": "markdown",
      "metadata": {
        "colab_type": "text",
        "id": "6CUgSuI6R4Vc"
      },
      "source": [
        "Target:\n",
        "\n",
        "Get the set-up right\n",
        "\n",
        "*   Set Transforms\n",
        "*   Set Data Loader\n",
        "*   Set Basic Working Code\n",
        "*   Set Basic Training  & Test Loop\n",
        "\n",
        "Results:\n",
        "\n",
        "*   Parameters: 6.3M\n",
        "*   Best Training Accuracy: 99.99\n",
        "*   Best Test Accuracy: 99.24\n",
        "\n",
        "Analysis:\n",
        "\n",
        "*   Extremely Heavy Model for such a problem\n",
        "*   Model is over-fitting, but we are changing our model in the next step"
      ]
    },
    {
      "cell_type": "code",
      "metadata": {
        "colab_type": "code",
        "id": "tkPJXPWFQlZS",
        "colab": {}
      },
      "source": [
        "from __future__ import print_function\n",
        "\n",
        "import torch\n",
        "import torch.nn as nn\n",
        "import torch.nn.functional as F\n",
        "import torch.optim as optim\n",
        "\n",
        "import torchvision\n",
        "from torchvision import transforms, datasets\n",
        "import numpy as np\n",
        "import matplotlib.pyplot as plt"
      ],
      "execution_count": null,
      "outputs": []
    },
    {
      "cell_type": "markdown",
      "metadata": {
        "colab_type": "text",
        "id": "XarH1InGS-Rs"
      },
      "source": [
        "## Data Transformations\n",
        "\n",
        "We first start with defining our data transformations. We need to think what our data is and how can we augment it to correct represent images which it might not see otherwise. \n"
      ]
    },
    {
      "cell_type": "code",
      "metadata": {
        "colab_type": "code",
        "id": "0ioNY7nIRQ1o",
        "colab": {}
      },
      "source": [
        "# Train phase transformation\n",
        "\n",
        "train_transforms = transforms.Compose([\n",
        "                                       transforms.ToTensor(),\n",
        "                                       transforms.Normalize((.1307,), (.3081,))\n",
        "                                       ])\n",
        "\n",
        "#Test phase transformation\n",
        "test_transforms = transforms.Compose([\n",
        "                                       transforms.ToTensor(),\n",
        "                                       transforms.Normalize((.1307,), (.3081,))\n",
        "                                       ])"
      ],
      "execution_count": null,
      "outputs": []
    },
    {
      "cell_type": "markdown",
      "metadata": {
        "colab_type": "text",
        "id": "lz9Wb7UBT2NU"
      },
      "source": [
        "# Download Dataset, apply transforms and Creating Train/Test Split"
      ]
    },
    {
      "cell_type": "code",
      "metadata": {
        "colab_type": "code",
        "id": "wF-_l11FT1Oa",
        "colab": {}
      },
      "source": [
        "train_dataset = datasets.MNIST(root= './data', train=True, transform=train_transforms, download=True)\n",
        "test_dataset = datasets.MNIST(root= './data', train=False, transform=test_transforms, download=True)"
      ],
      "execution_count": null,
      "outputs": []
    },
    {
      "cell_type": "markdown",
      "metadata": {
        "colab_type": "text",
        "id": "OxErPZnaXfj8"
      },
      "source": [
        "## Check for device and set SEED value for reproducibility"
      ]
    },
    {
      "cell_type": "code",
      "metadata": {
        "colab_type": "code",
        "id": "25fdiO6pXonn",
        "colab": {
          "base_uri": "https://localhost:8080/",
          "height": 34
        },
        "outputId": "23b3323f-e6e3-4a0a-c09a-fc76cf4e4119"
      },
      "source": [
        "SEED = 1\n",
        "\n",
        "#Check for CUDA?\n",
        "cuda = torch.cuda.is_available()\n",
        "print(\"Cuda is available ?\", cuda)\n",
        "\n",
        "# For reproducibility\n",
        "torch.manual_seed(SEED)\n",
        "\n",
        "if cuda:\n",
        "  torch.cuda.manual_seed(SEED)"
      ],
      "execution_count": null,
      "outputs": [
        {
          "output_type": "stream",
          "text": [
            "Cuda is available ? True\n"
          ],
          "name": "stdout"
        }
      ]
    },
    {
      "cell_type": "markdown",
      "metadata": {
        "colab_type": "text",
        "id": "nlmizsXAUYc0"
      },
      "source": [
        "# Define Dataloader Arguments & Load Train and Test datasets\n",
        "\n",
        "\n",
        "DataLoader(dataset, batch_size=1, shuffle=False, sampler=None,\n",
        "           batch_sampler=None, num_workers=0, collate_fn=None,\n",
        "           pin_memory=False, drop_last=False, timeout=0,\n",
        "           worker_init_fn=None)"
      ]
    },
    {
      "cell_type": "code",
      "metadata": {
        "colab_type": "code",
        "id": "aH4hSciMUXSK",
        "colab": {}
      },
      "source": [
        "# DataLoader arguments\n",
        "dataloader_args = dict(batch_size=128, shuffle=True, num_workers=4, pin_memory=True) if cuda else dict(batch_size=64, shuffle=True)\n",
        "\n",
        "# train and test dataloader\n",
        "train_loader = torch.utils.data.DataLoader(train_dataset, **dataloader_args)\n",
        "test_loader = torch.utils.data.DataLoader(test_dataset, **dataloader_args)"
      ],
      "execution_count": null,
      "outputs": []
    },
    {
      "cell_type": "markdown",
      "metadata": {
        "colab_type": "text",
        "id": "d3cEdDakYbTa"
      },
      "source": [
        "# Data Statistics\n",
        "\n",
        "It is important to know your data very well. Let's check some of the statistics around our data and how it actually looks like"
      ]
    },
    {
      "cell_type": "code",
      "metadata": {
        "colab_type": "code",
        "id": "YilCkfn5XzHc",
        "colab": {
          "base_uri": "https://localhost:8080/",
          "height": 890
        },
        "outputId": "3549f70d-9475-402e-9f20-4b4b63a2a188"
      },
      "source": [
        "dir(train_dataset)"
      ],
      "execution_count": null,
      "outputs": [
        {
          "output_type": "execute_result",
          "data": {
            "text/plain": [
              "['__add__',\n",
              " '__class__',\n",
              " '__delattr__',\n",
              " '__dict__',\n",
              " '__dir__',\n",
              " '__doc__',\n",
              " '__eq__',\n",
              " '__format__',\n",
              " '__ge__',\n",
              " '__getattribute__',\n",
              " '__getitem__',\n",
              " '__gt__',\n",
              " '__hash__',\n",
              " '__init__',\n",
              " '__init_subclass__',\n",
              " '__le__',\n",
              " '__len__',\n",
              " '__lt__',\n",
              " '__module__',\n",
              " '__ne__',\n",
              " '__new__',\n",
              " '__reduce__',\n",
              " '__reduce_ex__',\n",
              " '__repr__',\n",
              " '__setattr__',\n",
              " '__sizeof__',\n",
              " '__str__',\n",
              " '__subclasshook__',\n",
              " '__weakref__',\n",
              " '_check_exists',\n",
              " '_format_transform_repr',\n",
              " '_repr_indent',\n",
              " 'class_to_idx',\n",
              " 'classes',\n",
              " 'data',\n",
              " 'download',\n",
              " 'extra_repr',\n",
              " 'processed_folder',\n",
              " 'raw_folder',\n",
              " 'resources',\n",
              " 'root',\n",
              " 'target_transform',\n",
              " 'targets',\n",
              " 'test_data',\n",
              " 'test_file',\n",
              " 'test_labels',\n",
              " 'train',\n",
              " 'train_data',\n",
              " 'train_labels',\n",
              " 'training_file',\n",
              " 'transform',\n",
              " 'transforms']"
            ]
          },
          "metadata": {
            "tags": []
          },
          "execution_count": 6
        }
      ]
    },
    {
      "cell_type": "code",
      "metadata": {
        "colab_type": "code",
        "id": "CkwuthL0YjLu",
        "colab": {
          "base_uri": "https://localhost:8080/",
          "height": 118
        },
        "outputId": "e288b943-87f8-49c6-d551-243a963aac06"
      },
      "source": [
        "print(train_dataset.train_data.shape)\n",
        "print(train_dataset.train_labels.shape)"
      ],
      "execution_count": null,
      "outputs": [
        {
          "output_type": "stream",
          "text": [
            "torch.Size([60000, 28, 28])\n",
            "torch.Size([60000])\n"
          ],
          "name": "stdout"
        },
        {
          "output_type": "stream",
          "text": [
            "C:\\Users\\Ravi\\anaconda3\\lib\\site-packages\\torchvision\\datasets\\mnist.py:55: UserWarning: train_data has been renamed data\n",
            "  warnings.warn(\"train_data has been renamed data\")\n",
            "C:\\Users\\Ravi\\anaconda3\\lib\\site-packages\\torchvision\\datasets\\mnist.py:45: UserWarning: train_labels has been renamed targets\n",
            "  warnings.warn(\"train_labels has been renamed targets\")\n"
          ],
          "name": "stderr"
        }
      ]
    },
    {
      "cell_type": "code",
      "metadata": {
        "colab_type": "code",
        "id": "n6SdtT4EdP-d",
        "colab": {
          "base_uri": "https://localhost:8080/",
          "height": 499
        },
        "outputId": "6a6730d0-5a1f-454e-eb99-3d0275017c93"
      },
      "source": [
        "# We'd need to convert it into Numpy! Remember above we have converted it into tensors already\n",
        "train = train_dataset.train_data\n",
        "train = train_dataset.transform(train.numpy())  # train.numpy is opposite of transform.ToTensor()\n",
        "\n",
        "\n",
        "print('[Train]')\n",
        "print(' - Numpy Shape:', train_dataset.train_data.cpu().numpy().shape)\n",
        "print(' - Tensor Shape:', train_dataset.train_data.size())\n",
        "print(' - min:', torch.min(train))\n",
        "print(' - max:', torch.max(train))\n",
        "print(' - mean:', torch.mean(train))\n",
        "print(' - std:', torch.std(train))\n",
        "print(' - var:', torch.var(train))\n",
        "\n",
        "dataiter = iter(train_loader)\n",
        "images, labels = dataiter.next()\n",
        "\n",
        "print(images.shape)\n",
        "print(labels.shape)\n",
        "\n",
        "#Let's visualize some of the images\n",
        "%matplotlib inline\n",
        "\n",
        "plt.imshow(images[0].numpy().squeeze(), cmap='gray_r')\n",
        "plt.title(\"Label is: \"+str(labels[0].numpy().squeeze()))"
      ],
      "execution_count": null,
      "outputs": [
        {
          "output_type": "stream",
          "text": [
            "[Train]\n",
            " - Numpy Shape: (60000, 28, 28)\n",
            " - Tensor Shape: torch.Size([60000, 28, 28])\n",
            " - min: tensor(-0.4242)\n",
            " - max: tensor(2.8215)\n",
            " - mean: tensor(-0.0001)\n",
            " - std: tensor(1.0000)\n",
            " - var: tensor(1.0001)\n",
            "torch.Size([128, 1, 28, 28])\n",
            "torch.Size([128])\n"
          ],
          "name": "stdout"
        },
        {
          "output_type": "execute_result",
          "data": {
            "text/plain": [
              "Text(0.5, 1.0, 'Label is: 9')"
            ]
          },
          "metadata": {
            "tags": []
          },
          "execution_count": 8
        },
        {
          "output_type": "display_data",
          "data": {
            "image/png": "[encoded data removed]",
            "text/plain": [
              "<Figure size 432x288 with 1 Axes>"
            ]
          },
          "metadata": {
            "tags": [],
            "needs_background": "light"
          }
        }
      ]
    },
    {
      "cell_type": "markdown",
      "metadata": {
        "colab_type": "text",
        "id": "44u3qk1WknLm"
      },
      "source": [
        "## MORE\n",
        "\n",
        "It is important that we view as many images as possible. This is required to get some idea on image augmentation later on"
      ]
    },
    {
      "cell_type": "code",
      "metadata": {
        "colab_type": "code",
        "id": "Kbmd48ZYdqwC",
        "colab": {
          "base_uri": "https://localhost:8080/",
          "height": 246
        },
        "outputId": "aed16ae9-9f06-4c57-f1a2-de8f5b9cbd69"
      },
      "source": [
        "figure = plt.figure()\n",
        "num_of_images = 60\n",
        "for index in range(1, num_of_images):\n",
        "  plt.subplot(6, 10, index)\n",
        "  plt.axis(\"off\")\n",
        "  plt.imshow(images[index].numpy().squeeze(), cmap=\"gray_r\")\n"
      ],
      "execution_count": null,
      "outputs": [
        {
          "output_type": "display_data",
          "data": {
            "image/png": "[encoded data removed]",
            "text/plain": [
              "<Figure size 432x288 with 59 Axes>"
            ]
          },
          "metadata": {
            "tags": [],
            "needs_background": "light"
          }
        }
      ]
    },
    {
      "cell_type": "markdown",
      "metadata": {
        "colab_type": "text",
        "id": "IM8XhKkqxddz"
      },
      "source": [
        "# The model\n",
        "Let's start with the model we first saw\n"
      ]
    },
    {
      "cell_type": "code",
      "metadata": {
        "colab_type": "code",
        "id": "WMcaHySIumqx",
        "colab": {}
      },
      "source": [
        "class Net(nn.Module):\n",
        "    def __init__(self):\n",
        "        super(Net, self).__init__()\n",
        "        self.conv1 = nn.Conv2d(1, 32, 3, padding=1)          # output_image=28 RF=3\n",
        "        self.conv2 = nn.Conv2d(32, 64, 3, padding=1)         # output_image=28 RF=5\n",
        "        self.pool1 = nn.MaxPool2d(2, 2)                      # output_image=14 RF=6\n",
        "        self.conv3 = nn.Conv2d(64, 128, 3, padding=1)        # output_image=14 RF=10\n",
        "        self.conv4 = nn.Conv2d(128, 256, 3, padding=1)       # output_image=14 RF=14\n",
        "        self.pool2 = nn.MaxPool2d(2, 2)                      # output_image=7 RF=16\n",
        "        self.conv5 = nn.Conv2d(256, 512, 3)                  # output_image=7 RF=24\n",
        "        self.conv6 = nn.Conv2d(512, 1024, 3)                 # output_image=7 RF=32\n",
        "        self.conv7 = nn.Conv2d(1024, 10, 3)                  # output_image=1 RF=40\n",
        "\n",
        "    def forward(self, x):\n",
        "        x = self.pool1(F.relu(self.conv2(F.relu(self.conv1(x)))))\n",
        "        x = self.pool2(F.relu(self.conv4(F.relu(self.conv3(x)))))\n",
        "        x = F.relu(self.conv6(F.relu(self.conv5(x))))\n",
        "        # x = F.relu(self.conv7(x))\n",
        "        x = self.conv7(x)\n",
        "        x = x.view(-1, 10)\n",
        "        return F.log_softmax(x, dim=-1)"
      ],
      "execution_count": null,
      "outputs": []
    },
    {
      "cell_type": "markdown",
      "metadata": {
        "colab_type": "text",
        "id": "1EuMhtVF6HwE"
      },
      "source": [
        "Summarize Model"
      ]
    },
    {
      "cell_type": "code",
      "metadata": {
        "colab_type": "code",
        "id": "GmttA2Na6EXL",
        "colab": {
          "base_uri": "https://localhost:8080/",
          "height": 437
        },
        "outputId": "4d87d327-6ec7-4dc6-a05c-53a10182c53d"
      },
      "source": [
        "from torchsummary import summary\n",
        "device = torch.device(\"cuda\" if cuda else \"cpu\")\n",
        "model = Net().to(device)\n",
        "summary(model, input_size=(1, 28, 28))"
      ],
      "execution_count": null,
      "outputs": [
        {
          "output_type": "stream",
          "text": [
            "----------------------------------------------------------------\n",
            "        Layer (type)               Output Shape         Param #\n",
            "================================================================\n",
            "            Conv2d-1           [-1, 32, 28, 28]             320\n",
            "            Conv2d-2           [-1, 64, 28, 28]          18,496\n",
            "         MaxPool2d-3           [-1, 64, 14, 14]               0\n",
            "            Conv2d-4          [-1, 128, 14, 14]          73,856\n",
            "            Conv2d-5          [-1, 256, 14, 14]         295,168\n",
            "         MaxPool2d-6            [-1, 256, 7, 7]               0\n",
            "            Conv2d-7            [-1, 512, 5, 5]       1,180,160\n",
            "            Conv2d-8           [-1, 1024, 3, 3]       4,719,616\n",
            "            Conv2d-9             [-1, 10, 1, 1]          92,170\n",
            "================================================================\n",
            "Total params: 6,379,786\n",
            "Trainable params: 6,379,786\n",
            "Non-trainable params: 0\n",
            "----------------------------------------------------------------\n",
            "Input size (MB): 0.00\n",
            "Forward/backward pass size (MB): 1.51\n",
            "Params size (MB): 24.34\n",
            "Estimated Total Size (MB): 25.85\n",
            "----------------------------------------------------------------\n"
          ],
          "name": "stdout"
        }
      ]
    },
    {
      "cell_type": "markdown",
      "metadata": {
        "colab_type": "text",
        "id": "atQYN95Ibkbr"
      },
      "source": [
        "Training and Testing functions"
      ]
    },
    {
      "cell_type": "code",
      "metadata": {
        "colab_type": "code",
        "id": "2UPgHzK862TS",
        "colab": {}
      },
      "source": [
        "from tqdm import tqdm\n",
        "import os\n",
        "train_losses = []\n",
        "test_losses = []\n",
        "train_accuracy = []\n",
        "test_accuracy = []\n",
        "train_acc = 0\n",
        "test_acc = 0\n",
        "def train(model, device, train_loader, optimizer, epoch):\n",
        "  model.train()\n",
        "  pbar = tqdm(train_loader, position=0, leave=True)\n",
        "\n",
        "  correct = 0\n",
        "  processed = 0\n",
        "\n",
        "  try:\n",
        "      for batch_idx, (images, labels) in enumerate(pbar):\n",
        "        # get samples\n",
        "        images, labels = images.to(device), labels.to(device)\n",
        "        # Init\n",
        "        optimizer.zero_grad()\n",
        "        #Predict\n",
        "        y_pred = model(images)\n",
        "        #Calculate loss\n",
        "        loss = F.nll_loss(y_pred, labels)\n",
        "        train_losses.append(loss)\n",
        "\n",
        "        #Backpropagation\n",
        "        loss.backward()\n",
        "\n",
        "        #update weights\n",
        "        optimizer.step()\n",
        "\n",
        "        pred = y_pred.argmax(dim=1, keepdim=True)  # get the index of the max log-probability\n",
        "\n",
        "        #check how many predictions are correct\n",
        "        if cuda:\n",
        "          correct += pred.cpu().eq(labels.cpu().view_as(pred)).sum().item()\n",
        "        else:\n",
        "          correct += pred.eq(labels.view_as(pred)).sum().item()\n",
        "        \n",
        "        processed += len(images) # 128 + 128 +128 ......till 60000 images\n",
        "\n",
        "        train_acc = 100*correct / processed\n",
        "        train_accuracy.append(train_acc)\n",
        "        pbar.set_description(desc=f\"EPOCH= {epoch} Loss= {loss.item() :0.4f} Batch_id= {batch_idx} Accuracy= {train_acc:0.2f}\")\n",
        "  finally:\n",
        "    tqdm._instances.clear()\n",
        "    os.system('cls') \n",
        "       \n",
        "    \n",
        "def test(model, device, test_loader):\n",
        "  model.eval()\n",
        "  \n",
        "\n",
        "  correct = 0\n",
        "  test_loss = 0\n",
        "  \n",
        "  with torch.no_grad():\n",
        "    for batch_idx, (images, labels) in enumerate(test_loader):\n",
        "      # get samples\n",
        "      images, labels = images.to(device), labels.to(device)\n",
        "      \n",
        "      #Predict\n",
        "      y_pred = model(images)\n",
        "      #Calculate loss and sum all the loss for one batch\n",
        "      test_loss += F.nll_loss(y_pred, labels, reduction='sum').item()\n",
        "    \n",
        "      pred = y_pred.argmax(dim=1, keepdim=True)  # get the index of the max log-probability\n",
        "\n",
        "      #check how many predictions are correct\n",
        "      if cuda:\n",
        "        correct += pred.cpu().eq(labels.cpu().view_as(pred)).sum().item()\n",
        "      else:\n",
        "        correct += pred.eq(labels.view_as(pred)).sum().item()\n",
        "      \n",
        "     # processed += len(images) # 128 + 128 +128 ......till 10000 images\n",
        "\n",
        "  test_loss /= len(test_loader.dataset)  # loss per epoch\n",
        "  test_losses.append(test_loss)\n",
        "\n",
        "  test_acc = 100*correct / len(test_loader.dataset)\n",
        "  test_accuracy.append(train_acc)\n",
        "  print(f\"\\nTest set: Average Loss= {test_loss :0.4f} Batch_id= {batch_idx} Accuracy= {correct}/{len(test_loader.dataset)} ({test_acc:0.2f}%)\\n\")\n",
        "\n"
      ],
      "execution_count": null,
      "outputs": []
    },
    {
      "cell_type": "code",
      "metadata": {
        "colab_type": "code",
        "id": "Zh6Qg4oee10n",
        "colab": {
          "base_uri": "https://localhost:8080/",
          "height": 370
        },
        "outputId": "f5febd4a-bdd6-4d48-c4ea-433cf044c687"
      },
      "source": [
        "model = Net().to(device)\n",
        "optimizer = optim.SGD(model.parameters(), lr=0.01, momentum=0.9)\n",
        "EPOCHS = 5\n",
        "for epoch in range(EPOCHS):\n",
        "  train(model, device, train_loader, optimizer, epoch)\n",
        "  test(model, device, test_loader)"
      ],
      "execution_count": null,
      "outputs": [
        {
          "output_type": "stream",
          "text": [
            "EPOCH= 0 Loss= 0.0184 Batch_id= 468 Accuracy= 82.75: 100%|███████████████████████████| 469/469 [00:41<00:00, 11.18it/s]\n",
            "  0%|                                                                                          | 0/469 [00:00<?, ?it/s]"
          ],
          "name": "stderr"
        },
        {
          "output_type": "stream",
          "text": [
            "\n",
            "Test set: Average Loss= 0.0612 Batch_id= 78 Accuracy= 9787/10000 (97.87%)\n",
            "\n"
          ],
          "name": "stdout"
        },
        {
          "output_type": "stream",
          "text": [
            "EPOCH= 1 Loss= 0.0039 Batch_id= 468 Accuracy= 98.17: 100%|███████████████████████████| 469/469 [00:42<00:00, 11.02it/s]\n",
            "  0%|                                                                                          | 0/469 [00:00<?, ?it/s]"
          ],
          "name": "stderr"
        },
        {
          "output_type": "stream",
          "text": [
            "\n",
            "Test set: Average Loss= 0.0431 Batch_id= 78 Accuracy= 9865/10000 (98.65%)\n",
            "\n"
          ],
          "name": "stdout"
        },
        {
          "output_type": "stream",
          "text": [
            "EPOCH= 2 Loss= 0.0087 Batch_id= 468 Accuracy= 98.90: 100%|███████████████████████████| 469/469 [00:42<00:00, 11.16it/s]\n",
            "  0%|                                                                                          | 0/469 [00:00<?, ?it/s]"
          ],
          "name": "stderr"
        },
        {
          "output_type": "stream",
          "text": [
            "\n",
            "Test set: Average Loss= 0.0335 Batch_id= 78 Accuracy= 9877/10000 (98.77%)\n",
            "\n"
          ],
          "name": "stdout"
        },
        {
          "output_type": "stream",
          "text": [
            "EPOCH= 3 Loss= 0.0306 Batch_id= 468 Accuracy= 99.19: 100%|███████████████████████████| 469/469 [00:41<00:00, 11.19it/s]\n",
            "  0%|                                                                                          | 0/469 [00:00<?, ?it/s]"
          ],
          "name": "stderr"
        },
        {
          "output_type": "stream",
          "text": [
            "\n",
            "Test set: Average Loss= 0.0296 Batch_id= 78 Accuracy= 9902/10000 (99.02%)\n",
            "\n"
          ],
          "name": "stdout"
        },
        {
          "output_type": "stream",
          "text": [
            "EPOCH= 4 Loss= 0.0408 Batch_id= 468 Accuracy= 99.41: 100%|███████████████████████████| 469/469 [00:42<00:00, 11.15it/s]\n"
          ],
          "name": "stderr"
        },
        {
          "output_type": "stream",
          "text": [
            "\n",
            "Test set: Average Loss= 0.0325 Batch_id= 78 Accuracy= 9911/10000 (99.11%)\n",
            "\n"
          ],
          "name": "stdout"
        }
      ]
    },
    {
      "cell_type": "code",
      "metadata": {
        "colab_type": "code",
        "id": "BFBVcz9wfBbe",
        "colab": {}
      },
      "source": [
        ""
      ],
      "execution_count": null,
      "outputs": []
    }
  ]
}